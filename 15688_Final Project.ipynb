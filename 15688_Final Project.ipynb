{
 "cells": [
  {
   "cell_type": "markdown",
   "id": "f4db41cf",
   "metadata": {},
   "source": [
    "# League of Legends Game Result Prediction"
   ]
  },
  {
   "cell_type": "markdown",
   "id": "a44b9872",
   "metadata": {},
   "source": [
    "Authors: Victor Wang hanmingw@andrew.cmu.edu & Ryan Wang zhenxiw@andrew.cmu.edu"
   ]
  },
  {
   "cell_type": "markdown",
   "id": "ae434e67",
   "metadata": {},
   "source": [
    "### Table of Contens  \n",
    "\n",
    "- Introduction\n",
    "    - [Summary](#Summary)\n",
    "    - [League of Legends Rank System ](#League-of-Legends-Rank-System)\n",
    "    - [LoL Challenger](#LoL-Challenger) \n",
    "    \n",
    "    \n",
    "    \n",
    "- [Data Scraping](#Data-Scraping)\n",
    "    - [Import Libraries](#Import-Libraries)\n",
    "    - [Summoner Names](#Getting-Summoner-Names)\n",
    "    - [Match Hisotry](#Scraping-Match-History-for-each-player)\n",
    "    - [Data Description](#Data-Description)\n",
    "    - [Data Dictionary](#Data-Dictionary)  \n",
    "    \n",
    "    \n",
    "    \n",
    "- [Data Processing](#Data-Processing) \n",
    "    - [Handling Imbalanced Data](#Check-for-Imbalanced-Data)\n",
    "    - [Feature Correlation](#Feature-Correlation-Heat-Map)\n",
    "    - [Encoding](#Data-Encoding)\n",
    "\n",
    "\n",
    "- [Machine Learning Models](#Machine-Learning-Models) \n",
    "    - [Logistic Regression](#Model-1:-Logistic-Regression:-(*L2*-penalizer))\n",
    "    - [SVM](#Model-2:-SVM-Model)\n",
    "    - [Random Forest](#Model-3:-Random-Forest)\n",
    "    - [Multi-layer Perceptron](#Model-4:-Multilayer-Perceptron)\n",
    "    - [Result](#Result)\n",
    "    \n",
    "\n",
    "- [Top Features](#Top-Feature-Analysis)\n",
    "    - [Top Champions](#Top-Champions)\n",
    "        - [Champion Suggestions & Insights](#Champion-Suggestions-and-Insights)\n",
    "    - [Top Features](#Top-Features)\n",
    "        - [Gameplay Suggestions](#Gameplay-Suggestions) \n",
    "    \n",
    "    \n",
    "- [Conculsion](#Conclusion)\n",
    "    - [Improvement & Further Steps](#Improvement-&-Further-Steps)"
   ]
  },
  {
   "cell_type": "markdown",
   "id": "bd9cc4b5",
   "metadata": {},
   "source": [
    "### Summary"
   ]
  },
  {
   "cell_type": "markdown",
   "id": "97a42a07",
   "metadata": {},
   "source": [
    "League of Legens is a multiplayer oneline battle video game. It became extremely popular in the recent years and is famous of its revolutionary concepts about e-sports competitions amont the young generations. Similar to other sports such as basketball, people often times are very interested in making game result prediction for such complex strategic games based on various factors. \n",
    "\n",
    "In this project we are going to build up a data science pipeline to predict game results for Leauge of Legdends 5v5 solo rank games using Machine Learning algorithms to help LoL players imporve their gaming performances."
   ]
  },
  {
   "cell_type": "markdown",
   "id": "5af791ee",
   "metadata": {},
   "source": [
    "### League of Legends Rank System  \n",
    "There are nine ranks that currently exist in League of Legends. Each rank is represented by a specific name and icon. This way LoL players are able to differentiate their skill level with ease since those in the same rank and tier should have similar proficiency in LoL.  \n",
    "These are the nine ranks that currently exist in League of Legends:\n",
    "   - Iron \n",
    "   - Bronze\n",
    "   - Silver\n",
    "   - Gold\n",
    "   - Platinum\n",
    "   - Diamond\n",
    "   - Master\n",
    "   - Grandmaster\n",
    "   - Challenger "
   ]
  },
  {
   "cell_type": "code",
   "execution_count": 14,
   "id": "ff605632",
   "metadata": {
    "scrolled": true
   },
   "outputs": [
    {
     "data": {
      "image/png": "[encoded data removed]",
      "text/plain": [
       "<IPython.core.display.Image object>"
      ]
     },
     "execution_count": 14,
     "metadata": {},
     "output_type": "execute_result"
    }
   ],
   "source": [
    "from IPython.display import Image\n",
    "Image('League_Tiers_2019.png') # reference: https://earlygame.com/lol/ranking-system"
   ]
  },
  {
   "cell_type": "markdown",
   "id": "2e8325f9",
   "metadata": {},
   "source": [
    "### LoL Challenger  \n",
    "Challenger is the highest rank in League of Legends and represents the top 300 players of each region. To achieve Challenger rank, players will have to make it through the eight previous LoL tiers.  \n",
    "\n",
    "Our project targets all the challengers players from the `North America` region and the `South Korea` region since there are over 150 million registered users in the world, and it would be inefficient to do a massive computation for all 150 million players. The North America region and the South Korea region are two of the most representative servers across all regions in the world, and challenger players are good representatives of the LoL community. We take a total of 600 challengers from these two servers for our predcitin model. "
   ]
  },
  {
   "cell_type": "markdown",
   "id": "a43c33cd",
   "metadata": {},
   "source": [
    "## Data Scraping"
   ]
  },
  {
   "cell_type": "markdown",
   "id": "6c505bb1",
   "metadata": {},
   "source": [
    "### Import Libraries"
   ]
  },
  {
   "cell_type": "code",
   "execution_count": 3,
   "id": "3f621813",
   "metadata": {},
   "outputs": [],
   "source": [
    "from bs4 import BeautifulSoup\n",
    "import requests\n",
    "import json\n",
    "import sys\n",
    "import cassiopeia as cass # need to install cassiopeia\n",
    "import random\n",
    "import pandas as pd\n",
    "import matplotlib.pyplot as plt\n",
    "import matplotlib.axes as ax\n",
    "import datetime\n",
    "import numpy as np\n",
    "import pickle\n",
    "import time\n",
    "import seaborn as sns\n",
    "from riotwatcher import LolWatcher, ApiError # need to install riowatcher\n",
    "\n",
    "# Load sklearn utilities\n",
    "# ----------------------\n",
    "from sklearn.model_selection import train_test_split\n",
    "from sklearn import preprocessing\n",
    "from sklearn.model_selection import GridSearchCV\n",
    "\n",
    "from sklearn.metrics import accuracy_score, classification_report, roc_auc_score, roc_curve, brier_score_loss, mean_squared_error, r2_score\n",
    "\n",
    "from sklearn.calibration import calibration_curve\n",
    "\n",
    "# Load classifiers\n",
    "# ----------------\n",
    "from sklearn.linear_model import LogisticRegression\n",
    "from sklearn.ensemble import RandomForestClassifier\n",
    "# from sklearn.naive_bayes import GaussianNB\n",
    "from sklearn.neural_network import MLPClassifier\n",
    "# from sklearn.ensemble import BaggingClassifier\n",
    "from sklearn.svm import SVC\n",
    "\n",
    "from sklearn.neural_network import MLPRegressor\n",
    "from sklearn import linear_model\n",
    "from sklearn.ensemble import RandomForestRegressor"
   ]
  },
  {
   "cell_type": "markdown",
   "id": "aa463694",
   "metadata": {},
   "source": [
    "### Getting Summoner Names"
   ]
  },
  {
   "cell_type": "markdown",
   "id": "646784ef",
   "metadata": {},
   "source": [
    "First, in order to scrape all challenger players from North America and South Korean, we need to sign up for a API key from `Riot Developer Portal` https://developer.riotgames.com/. After installing `Cassiopeia`, we can get all summoner names of all challenger players in NA and KR region. "
   ]
  },
  {
   "cell_type": "code",
   "execution_count": 26,
   "id": "8b4ee16b",
   "metadata": {
    "scrolled": true
   },
   "outputs": [
    {
     "name": "stdout",
     "output_type": "stream",
     "text": [
      "The number of challenger players in NA is: 300\n",
      "The number of challenger players in KR is: 300\n"
     ]
    }
   ],
   "source": [
    "APIKey = 'RGAPI-0116ac63-7c46-46db-bc10-d380ce6ec852'\n",
    "cass.set_riot_api_key(APIKey)\n",
    "\n",
    "NA_challenger_league = cass.get_challenger_league(queue=cass.Queue.ranked_solo_fives, region = 'NA')\n",
    "KR_challenger_league = cass.get_challenger_league(queue=cass.Queue.ranked_solo_fives, region = 'KR')\n",
    "\n",
    "num_na_challenger_players = len(NA_challenger_league)\n",
    "num_kr_challenger_players = len(KR_challenger_league)\n",
    "\n",
    "NA_challenger_players = [NA_challenger_league[i].summoner.name for i in range(num_na_challenger_players)]\n",
    "KR_challenger_players = [KR_challenger_league[i].summoner.name for i in range(num_kr_challenger_players)]\n",
    "\n",
    "print('The number of challenger players in NA is: {}'.format(num_na_challenger_players))\n",
    "print('The number of challenger players in KR is: {}'.format(num_kr_challenger_players))"
   ]
  },
  {
   "cell_type": "markdown",
   "id": "85a91a85",
   "metadata": {},
   "source": [
    "### Scraping Match History for each player"
   ]
  },
  {
   "cell_type": "markdown",
   "id": "69e8e20b",
   "metadata": {},
   "source": [
    "To get each player's match history information, we define a function `get_past_matches` to scrape 5v5 ranked solo match history for individual players from `Mobalytics.gg` by each player's ' `summoner name` we scraped above and `region` the player belongs to. We also inclue a parameter `top` to get the number of most recent match history we want to explore.  \n",
    "Reference: https://app.mobalytics.gg/lol"
   ]
  },
  {
   "cell_type": "code",
   "execution_count": 16,
   "id": "d9bb902c",
   "metadata": {},
   "outputs": [],
   "source": [
    "def get_past_matches(summonerName: str, region: str, top: int):\n",
    "\n",
    "    url = \"https://app.mobalytics.gg/api/lol/graphql/v1/query\"\n",
    "    payload = json.dumps(\n",
    "        {\n",
    "            \"operationName\": \"LolProfilePageMoreMatchesQuery\",\n",
    "            \"variables\": {\n",
    "                \"withMatchParticipantDetailed\": False,\n",
    "                \"summonerName\": summonerName,\n",
    "                \"region\": region,\n",
    "                \"top\": top,\n",
    "                \"skip\": 0,\n",
    "                \"queue\": \"RANKED_SOLO\",\n",
    "                \"rolename\": None,\n",
    "            },\n",
    "            \"extensions\": {\n",
    "                \"persistedQuery\": {\n",
    "                    \"version\": 1,\n",
    "                    \"sha256Hash\": \"92fe7bcd15126c52548a71e98d1e16c6fd128692631c73a9b512ea62f072156c\",\n",
    "                }\n",
    "            },\n",
    "        }\n",
    "    )\n",
    "    headers = {\"Content-Type\": \"application/json\"}\n",
    "    try:\n",
    "        response = requests.request(\"POST\", url, headers=headers, data=payload)\n",
    "        games_list = response.json()[\"data\"][\"lol\"][\"player\"][\"matchesHistory\"][\n",
    "            \"matches\"\n",
    "        ]\n",
    "        return games_list\n",
    "    except:\n",
    "        return None"
   ]
  },
  {
   "cell_type": "markdown",
   "id": "a4810c7b",
   "metadata": {},
   "source": [
    "Using function `get_past_matches` defined above, we scrape most 20 mathes of each challenger player in NA and KR regions. We get a total of `600 * 20 = 12000` samples."
   ]
  },
  {
   "cell_type": "code",
   "execution_count": 68,
   "id": "468eca28",
   "metadata": {},
   "outputs": [],
   "source": [
    "all_match_history = {}\n",
    "\n",
    "for player in NA_challenger_players:\n",
    "    all_match_history[player] = (get_past_matches(player, 'NA', 20))\n",
    "    \n",
    "    \n",
    "for player in KR_challenger_players:\n",
    "    all_match_history[player] = (get_past_matches(player, 'KR', 20))"
   ]
  },
  {
   "cell_type": "markdown",
   "id": "8756dffb",
   "metadata": {},
   "source": [
    "### Data Description"
   ]
  },
  {
   "cell_type": "markdown",
   "id": "ab8e67be",
   "metadata": {},
   "source": [
    "\n",
    "\n",
    "The following table is a description of the features we can generate from players' match history for our game data analysis:\n",
    "\n",
    "Feature | Description\n",
    ":---|:---\n",
    "`summonerName`| name that will be known by in game\n",
    "`region`| region that this player belongs to, here we have NA for North America and KR for South Korea\n",
    "`winRate`| win percentage of this player calculated from his/her pevious matches\n",
    "`hotStreak`| True if this player won the previous game, Flase if this player lost the previous game\n",
    "`team`| the team that this player is on in this game (Blue/Red)\n",
    "`role`| the position that this player played in this game (ADC/Support/Mid/Jungle/Top)\n",
    "`cs`| the number of minions, monsters, and other things (such as wards) that this player has killed\n",
    "`csDiiff10`| the number of creep score difference every 10 minute \n",
    "`kp`| the ratio of kill participation in percentage\n",
    "`mvpScore`| the mostvaluable score for this player in the game\n",
    "`controlWardsPlaced`| the number of control wards placed of this player in the game\n",
    "`sightWardsPlaced`| the number of sight wards placed of this player in the game\n",
    "`kills` |the number of enemy killed of this player in the game\n",
    "`deaths`| the number of deaths of this player in the game\n",
    "`assists`| the number of assists of this player in the game\n",
    "`result`| result of the game (WON/LOST)"
   ]
  },
  {
   "cell_type": "markdown",
   "id": "0d4befd3",
   "metadata": {},
   "source": [
    "### Data Dictionary  "
   ]
  },
  {
   "cell_type": "markdown",
   "id": "82dd0190",
   "metadata": {},
   "source": [
    "We first build a data dictionary with all the features as keys and leave the values empty."
   ]
  },
  {
   "cell_type": "code",
   "execution_count": 123,
   "id": "07df2ce5",
   "metadata": {},
   "outputs": [],
   "source": [
    "data = {\n",
    "    'summonerName': [],\n",
    "    'region': [],\n",
    "    'winRate': [],\n",
    "    'hotStreak': [],\n",
    "    'championId': [],\n",
    "#     'Champion':[],\n",
    "    'team': [],\n",
    "    'role': [],\n",
    "    'cs': [],\n",
    "    'csDiff10': [],\n",
    "    'kp': [],\n",
    "    'mvpScore': [],\n",
    "    'controlWardsPlaced': [],\n",
    "    'sightWardsPlaced': [],\n",
    "#     'kills': [],\n",
    "#     'deaths': [],\n",
    "#     'assists': [],\n",
    "    'kda': [],\n",
    "    'result': []\n",
    "}"
   ]
  },
  {
   "cell_type": "markdown",
   "id": "c4a55a41",
   "metadata": {},
   "source": [
    "After scraping match history for each player, we extrat corresponding data into our data dictionary built above. Since a few players' match history are missing, we take out these players and get match infomration for the rest of the players."
   ]
  },
  {
   "cell_type": "code",
   "execution_count": 124,
   "id": "8b606484",
   "metadata": {
    "scrolled": true
   },
   "outputs": [
    {
     "name": "stdout",
     "output_type": "stream",
     "text": [
      "waste it on me\n",
      "byz\n",
      "실 망\n",
      "Lc7\n",
      "노 르\n"
     ]
    },
    {
     "data": {
      "text/plain": [
       "['푸크라데스', 'Sayuikiki', 'waste it on me', 'byz', '실 망', 'Lc7', '노 르']"
      ]
     },
     "execution_count": 124,
     "metadata": {},
     "output_type": "execute_result"
    }
   ],
   "source": [
    "unfecthable_players = []\n",
    "# unfecthable_players.append('Paddy PimbIett')\n",
    "unfecthable_players.append('푸크라데스')\n",
    "# unfecthable_players.append('Esperance')\n",
    "unfecthable_players.append('Sayuikiki')\n",
    "for name in all_match_history.keys():\n",
    "    if all_match_history[name] is None:\n",
    "        unfecthable_players.append(name)\n",
    "        print(name)\n",
    "        continue\n",
    "    for match in all_match_history[name]:\n",
    "        if name not in unfecthable_players:\n",
    "            data['summonerName'].append(name)\n",
    "            data['region'].append(match['subject']['region'])\n",
    "            data['championId'].append(match['subject']['championId'])\n",
    "            data['team'].append(match['subject']['team'])\n",
    "            data['role'].append(match['subject']['role'])\n",
    "            data['cs'].append(match['subject']['cs'])\n",
    "            data['csDiff10'].append(match['subject']['csDiff10'])\n",
    "            data['mvpScore'].append(match['subject']['mvpScore'])\n",
    "            data['kp'].append(np.round(match['subject']['kp'],2))\n",
    "            data['controlWardsPlaced'].append(match['subject']['controlWardsPlaced'])\n",
    "            data['sightWardsPlaced'].append(match['subject']['sightWardsPlaced'])\n",
    "    #         data['kills'].append(match['subject']['kda']['k'])\n",
    "    #         data['deaths'].append(match['subject']['kda']['d'])\n",
    "    #         data['assists'].append(match['subject']['kda']['a'])\n",
    "\n",
    "            if match['subject']['kda']['d'] == 0:\n",
    "                data['kda'].append(np.round(match['subject']['kda']['k'] + match['subject']['kda']['a'],2))\n",
    "            else:\n",
    "                data['kda'].append(np.round((match['subject']['kda']['k'] + match['subject']['kda']['a']) / match['subject']['kda']['d'],2 ))\n",
    "\n",
    "            has_team = False\n",
    "            for team in match['teams']:\n",
    "                if team['id'] == match['subject']['team']:\n",
    "                    has_team = True\n",
    "                    data['result'].append(team['result'])\n",
    "            if not has_team:\n",
    "                data['result'].append(\"NA\")\n",
    "\n",
    "unfecthable_players"
   ]
  },
  {
   "cell_type": "markdown",
   "id": "2d60de11",
   "metadata": {},
   "source": [
    "We are still missing players' `hotStreak` and `winRate` information. We will scrape these two features from `LoLWatcher` imported from `RiotWachter` using the API key we signed up from Riot Developer Portal. RiotWatcher is a thin wrapper on top of the Riot Games API for League of Legends.  \n",
    "Reference: https://riot-watcher.readthedocs.io/en/latest/"
   ]
  },
  {
   "cell_type": "code",
   "execution_count": 75,
   "id": "893a820c",
   "metadata": {
    "scrolled": false
   },
   "outputs": [],
   "source": [
    "lol_watcher = LolWatcher(APIKey)\n",
    "player_stats = []\n",
    "\n",
    "for player in NA_challenger_players:\n",
    "    if player not in unfecthable_players:\n",
    "        player = lol_watcher.summoner.by_name('na1', player)\n",
    "        player_stats.append(lol_watcher.league.by_summoner('na1', player['id']))        "
   ]
  },
  {
   "cell_type": "code",
   "execution_count": 78,
   "id": "d752a70f",
   "metadata": {},
   "outputs": [],
   "source": [
    "for player in KR_challenger_players:\n",
    "    if player not in unfecthable_players:\n",
    "        player = lol_watcher.summoner.by_name('kr', player)\n",
    "        player_stats.append(lol_watcher.league.by_summoner('kr', player['id']))"
   ]
  },
  {
   "cell_type": "markdown",
   "id": "015600ed",
   "metadata": {},
   "source": [
    "After scraping `hotStreak` and `winRate`, we also store them into our data dictionary."
   ]
  },
  {
   "cell_type": "code",
   "execution_count": 118,
   "id": "2c6a4a42",
   "metadata": {
    "scrolled": true
   },
   "outputs": [],
   "source": [
    "player_hotStreak = []\n",
    "player_winRate = []\n",
    "for stats in player_stats:\n",
    "    if len(stats) == 0:\n",
    "        player_hotStreak.append('NA')\n",
    "        player_winRate.append('NA')\n",
    "    else:\n",
    "        player_hotStreak.append(stats[0]['hotStreak'])\n",
    "        winrate = np.round(stats[0]['wins'] / (stats[0]['wins'] + stats[0]['losses']), 2)\n",
    "        player_winRate.append(winrate)\n",
    "      "
   ]
  },
  {
   "cell_type": "code",
   "execution_count": 126,
   "id": "80948263",
   "metadata": {},
   "outputs": [],
   "source": [
    "data['winRate'] = np.repeat(player_winRate, 20)\n",
    "data['hotStreak'] = np.repeat(player_hotStreak, 20)"
   ]
  },
  {
   "cell_type": "markdown",
   "id": "46c110f1",
   "metadata": {},
   "source": [
    "Beyond `championId` we extracted above from `Mobalytics`, we also want to get the name of champion that each `championId` corresponds to. "
   ]
  },
  {
   "cell_type": "code",
   "execution_count": 120,
   "id": "b15b7a5e",
   "metadata": {},
   "outputs": [],
   "source": [
    "champ_dic = {266: 'Aatrox', 103: 'Ahri', 84:'Akali', 166:'Akshan', 12:'Alista',\n",
    "      32:'Amumu', 34:'Anivia', 1:'Annie',523:'Aphelios',22:'Ashe',\n",
    "      136:'Aurelion Sol',268:'Azie',432:'Bard',53:'Blizcrank',\n",
    "      63:'Brand',201:'Braum',51:'Caitlyn',164:'Camille',69:'Cassiopeia',\n",
    "      31:'Cho Gath', 42:'Corki', 122:'Darius', 131:'Diana', 119:'Draven',\n",
    "      36:'Dr.Mundo', 245:'Ekko',60:'Elise', 28:'Evelynn', 81:'Ezreal',\n",
    "      9:'Fiddlesticks', 114:'Fiora', 105:'Fizz', 3:'Galio', 41:'Gangplank',\n",
    "      86:'Garen', 150:'Ganr',79:'Gragas', 104:'Graves', 887:'Gwen',\n",
    "      120:'Hecarim', 74:'Heimerdinger', 420:'Illaoi',39:'Irelia',427:'Ivern',\n",
    "      40:'Jana', 59:'Jarvan IV', 24:'Jax',126:'Jayce', 202:'Jhin', 222:'Jinx',\n",
    "      145:'Kaisa',429:'Kalista',43:'Karma',30:'Karthus',38:'Kassadin',\n",
    "      55:'Katrina', 10:'Kayle', 141:'Kayn', 85:'Kennen', 121:'KhaZix',\n",
    "      203:'Kindred',240:'Kled',96:'Kog Maw',7:'LeBlanc',64:'Lee Sin', \n",
    "      89:'Leona', 876:'Lillia', 127:'Lissandra',236:'Lucian', 117:'Lulu',\n",
    "      99:'Lux',54:'Malphite',90:'Malzahar',57:'Maokai',11:'Master Yi',\n",
    "      21:'Miss Fortune',62:'Wukong',82:'Mordkaiser',25:'Morgana',267:'Nami',\n",
    "      75:'Nasus',111:'Nautilus',518:'Neeko',76:'Nidalee',56:'Nocturne',\n",
    "      20:'Nunu & Willump', 2:'Oalf',61:'Orianna',516:'Ornn',80:'Pantheon',\n",
    "      78:'Poppy',555:'Pyke',246:'Qiyana',133:'Quinn',497:'Rakan',\n",
    "      33:'Rammus',421:'Rek Sai',526:'Rell',888:'Renata Glasc',58:'Renekton',\n",
    "      107:'Rengar',92:'Riven',68:'Rumble',13:'Ryze',360:'Samira',113:'Sejuani',\n",
    "      235:'Senna',147:'Sraphine',875:'Sett',35:'Shaco',98:'Shen',102:'Shvana',\n",
    "      27:'Singed',14:'Sion',15:'Sivir',72:'Skarner',37:'Sona',16:'Soraka',\n",
    "      50:'Swain',517:'Sylas',134:'Synra',223:'Tahm kench',163:'Taliyah',\n",
    "      91:'Talon', 44:'Taric',17:'Teemo',412:'Thresh',18:'Tristana',48:'Trundle',\n",
    "      23:'Tryndamere',4:'Twisted Fate', 29:'Twitch', 77:'Udyr', 6:'Urgor',\n",
    "      110:'Varus',67:'Vayne',45:'Veigar',161:'Vel Koz',711:'Vex',254:'Vi',\n",
    "      234:'Viego',112:'Viktor',8:'Vladmir',106:'Volibear',19:'Warick',498:'Xayah',\n",
    "      101:'Xerath', 5:'Xin Zhao', 157:'Yasuo', 777:'Yone', 83:'Yorick',350:'Yummi',\n",
    "      154:'Zac',238:'Zed',221:'Zeri',115:'Ziggs',26:'Zilean',142:'Zoe',143:'Zyra'}"
   ]
  },
  {
   "cell_type": "markdown",
   "id": "ea9543b6",
   "metadata": {},
   "source": [
    "After getting the names of champions, we store them into our data dictionary."
   ]
  },
  {
   "cell_type": "markdown",
   "id": "4077ecb2",
   "metadata": {},
   "source": [
    "Now, we have all the features we want and the data corresponding to each feature. We display our data with pandas DataFrame,  and we have a total of 11860 samples with 16 features for each sample. "
   ]
  },
  {
   "cell_type": "code",
   "execution_count": 159,
   "id": "ab567932",
   "metadata": {
    "scrolled": false
   },
   "outputs": [
    {
     "data": {
      "text/html": [
       "<div>\n",
       "<style scoped>\n",
       "    .dataframe tbody tr th:only-of-type {\n",
       "        vertical-align: middle;\n",
       "    }\n",
       "\n",
       "    .dataframe tbody tr th {\n",
       "        vertical-align: top;\n",
       "    }\n",
       "\n",
       "    .dataframe thead th {\n",
       "        text-align: right;\n",
       "    }\n",
       "</style>\n",
       "<table border=\"1\" class=\"dataframe\">\n",
       "  <thead>\n",
       "    <tr style=\"text-align: right;\">\n",
       "      <th></th>\n",
       "      <th>summonerName</th>\n",
       "      <th>region</th>\n",
       "      <th>winRate</th>\n",
       "      <th>hotStreak</th>\n",
       "      <th>championId</th>\n",
       "      <th>Champion</th>\n",
       "      <th>team</th>\n",
       "      <th>role</th>\n",
       "      <th>cs</th>\n",
       "      <th>csDiff10</th>\n",
       "      <th>kp</th>\n",
       "      <th>mvpScore</th>\n",
       "      <th>controlWardsPlaced</th>\n",
       "      <th>sightWardsPlaced</th>\n",
       "      <th>kda</th>\n",
       "      <th>result</th>\n",
       "    </tr>\n",
       "  </thead>\n",
       "  <tbody>\n",
       "    <tr>\n",
       "      <th>0</th>\n",
       "      <td>lts a process</td>\n",
       "      <td>NA</td>\n",
       "      <td>0.52</td>\n",
       "      <td>False</td>\n",
       "      <td>111</td>\n",
       "      <td>Nautilus</td>\n",
       "      <td>RED</td>\n",
       "      <td>SUPPORT</td>\n",
       "      <td>36</td>\n",
       "      <td>14</td>\n",
       "      <td>57.69</td>\n",
       "      <td>3</td>\n",
       "      <td>1</td>\n",
       "      <td>15</td>\n",
       "      <td>7.50</td>\n",
       "      <td>WON</td>\n",
       "    </tr>\n",
       "    <tr>\n",
       "      <th>1</th>\n",
       "      <td>lts a process</td>\n",
       "      <td>NA</td>\n",
       "      <td>0.52</td>\n",
       "      <td>False</td>\n",
       "      <td>117</td>\n",
       "      <td>Lulu</td>\n",
       "      <td>RED</td>\n",
       "      <td>SUPPORT</td>\n",
       "      <td>17</td>\n",
       "      <td>-10</td>\n",
       "      <td>50.00</td>\n",
       "      <td>4</td>\n",
       "      <td>3</td>\n",
       "      <td>35</td>\n",
       "      <td>5.00</td>\n",
       "      <td>WON</td>\n",
       "    </tr>\n",
       "    <tr>\n",
       "      <th>2</th>\n",
       "      <td>lts a process</td>\n",
       "      <td>NA</td>\n",
       "      <td>0.52</td>\n",
       "      <td>False</td>\n",
       "      <td>117</td>\n",
       "      <td>Lulu</td>\n",
       "      <td>BLUE</td>\n",
       "      <td>SUPPORT</td>\n",
       "      <td>7</td>\n",
       "      <td>-2</td>\n",
       "      <td>38.46</td>\n",
       "      <td>9</td>\n",
       "      <td>0</td>\n",
       "      <td>17</td>\n",
       "      <td>0.83</td>\n",
       "      <td>LOST</td>\n",
       "    </tr>\n",
       "    <tr>\n",
       "      <th>3</th>\n",
       "      <td>lts a process</td>\n",
       "      <td>NA</td>\n",
       "      <td>0.52</td>\n",
       "      <td>False</td>\n",
       "      <td>117</td>\n",
       "      <td>Lulu</td>\n",
       "      <td>RED</td>\n",
       "      <td>SUPPORT</td>\n",
       "      <td>8</td>\n",
       "      <td>-6</td>\n",
       "      <td>50.00</td>\n",
       "      <td>3</td>\n",
       "      <td>1</td>\n",
       "      <td>15</td>\n",
       "      <td>6.00</td>\n",
       "      <td>WON</td>\n",
       "    </tr>\n",
       "    <tr>\n",
       "      <th>4</th>\n",
       "      <td>lts a process</td>\n",
       "      <td>NA</td>\n",
       "      <td>0.52</td>\n",
       "      <td>False</td>\n",
       "      <td>117</td>\n",
       "      <td>Lulu</td>\n",
       "      <td>BLUE</td>\n",
       "      <td>SUPPORT</td>\n",
       "      <td>9</td>\n",
       "      <td>3</td>\n",
       "      <td>62.50</td>\n",
       "      <td>4</td>\n",
       "      <td>4</td>\n",
       "      <td>17</td>\n",
       "      <td>3.75</td>\n",
       "      <td>WON</td>\n",
       "    </tr>\n",
       "    <tr>\n",
       "      <th>...</th>\n",
       "      <td>...</td>\n",
       "      <td>...</td>\n",
       "      <td>...</td>\n",
       "      <td>...</td>\n",
       "      <td>...</td>\n",
       "      <td>...</td>\n",
       "      <td>...</td>\n",
       "      <td>...</td>\n",
       "      <td>...</td>\n",
       "      <td>...</td>\n",
       "      <td>...</td>\n",
       "      <td>...</td>\n",
       "      <td>...</td>\n",
       "      <td>...</td>\n",
       "      <td>...</td>\n",
       "      <td>...</td>\n",
       "    </tr>\n",
       "    <tr>\n",
       "      <th>11855</th>\n",
       "      <td>langman de</td>\n",
       "      <td>KR</td>\n",
       "      <td>0.60</td>\n",
       "      <td>False</td>\n",
       "      <td>80</td>\n",
       "      <td>Pantheon</td>\n",
       "      <td>RED</td>\n",
       "      <td>SUPPORT</td>\n",
       "      <td>82</td>\n",
       "      <td>13</td>\n",
       "      <td>61.54</td>\n",
       "      <td>2</td>\n",
       "      <td>15</td>\n",
       "      <td>39</td>\n",
       "      <td>3.43</td>\n",
       "      <td>WON</td>\n",
       "    </tr>\n",
       "    <tr>\n",
       "      <th>11856</th>\n",
       "      <td>langman de</td>\n",
       "      <td>KR</td>\n",
       "      <td>0.60</td>\n",
       "      <td>False</td>\n",
       "      <td>119</td>\n",
       "      <td>Draven</td>\n",
       "      <td>RED</td>\n",
       "      <td>ADC</td>\n",
       "      <td>204</td>\n",
       "      <td>5</td>\n",
       "      <td>50.00</td>\n",
       "      <td>7</td>\n",
       "      <td>3</td>\n",
       "      <td>5</td>\n",
       "      <td>1.70</td>\n",
       "      <td>LOST</td>\n",
       "    </tr>\n",
       "    <tr>\n",
       "      <th>11857</th>\n",
       "      <td>langman de</td>\n",
       "      <td>KR</td>\n",
       "      <td>0.60</td>\n",
       "      <td>False</td>\n",
       "      <td>81</td>\n",
       "      <td>Ezreal</td>\n",
       "      <td>RED</td>\n",
       "      <td>ADC</td>\n",
       "      <td>163</td>\n",
       "      <td>-32</td>\n",
       "      <td>34.38</td>\n",
       "      <td>7</td>\n",
       "      <td>3</td>\n",
       "      <td>4</td>\n",
       "      <td>1.83</td>\n",
       "      <td>WON</td>\n",
       "    </tr>\n",
       "    <tr>\n",
       "      <th>11858</th>\n",
       "      <td>langman de</td>\n",
       "      <td>KR</td>\n",
       "      <td>0.60</td>\n",
       "      <td>False</td>\n",
       "      <td>236</td>\n",
       "      <td>Lucian</td>\n",
       "      <td>BLUE</td>\n",
       "      <td>ADC</td>\n",
       "      <td>194</td>\n",
       "      <td>8</td>\n",
       "      <td>38.89</td>\n",
       "      <td>10</td>\n",
       "      <td>0</td>\n",
       "      <td>5</td>\n",
       "      <td>1.17</td>\n",
       "      <td>LOST</td>\n",
       "    </tr>\n",
       "    <tr>\n",
       "      <th>11859</th>\n",
       "      <td>langman de</td>\n",
       "      <td>KR</td>\n",
       "      <td>0.60</td>\n",
       "      <td>False</td>\n",
       "      <td>498</td>\n",
       "      <td>Xayah</td>\n",
       "      <td>BLUE</td>\n",
       "      <td>ADC</td>\n",
       "      <td>240</td>\n",
       "      <td>-35</td>\n",
       "      <td>42.50</td>\n",
       "      <td>3</td>\n",
       "      <td>3</td>\n",
       "      <td>5</td>\n",
       "      <td>5.67</td>\n",
       "      <td>WON</td>\n",
       "    </tr>\n",
       "  </tbody>\n",
       "</table>\n",
       "<p>11860 rows × 16 columns</p>\n",
       "</div>"
      ],
      "text/plain": [
       "        summonerName region  winRate  hotStreak  championId  Champion  team  \\\n",
       "0      lts a process     NA     0.52      False         111  Nautilus   RED   \n",
       "1      lts a process     NA     0.52      False         117      Lulu   RED   \n",
       "2      lts a process     NA     0.52      False         117      Lulu  BLUE   \n",
       "3      lts a process     NA     0.52      False         117      Lulu   RED   \n",
       "4      lts a process     NA     0.52      False         117      Lulu  BLUE   \n",
       "...              ...    ...      ...        ...         ...       ...   ...   \n",
       "11855     langman de     KR     0.60      False          80  Pantheon   RED   \n",
       "11856     langman de     KR     0.60      False         119    Draven   RED   \n",
       "11857     langman de     KR     0.60      False          81    Ezreal   RED   \n",
       "11858     langman de     KR     0.60      False         236    Lucian  BLUE   \n",
       "11859     langman de     KR     0.60      False         498     Xayah  BLUE   \n",
       "\n",
       "          role   cs  csDiff10     kp  mvpScore  controlWardsPlaced  \\\n",
       "0      SUPPORT   36        14  57.69         3                   1   \n",
       "1      SUPPORT   17       -10  50.00         4                   3   \n",
       "2      SUPPORT    7        -2  38.46         9                   0   \n",
       "3      SUPPORT    8        -6  50.00         3                   1   \n",
       "4      SUPPORT    9         3  62.50         4                   4   \n",
       "...        ...  ...       ...    ...       ...                 ...   \n",
       "11855  SUPPORT   82        13  61.54         2                  15   \n",
       "11856      ADC  204         5  50.00         7                   3   \n",
       "11857      ADC  163       -32  34.38         7                   3   \n",
       "11858      ADC  194         8  38.89        10                   0   \n",
       "11859      ADC  240       -35  42.50         3                   3   \n",
       "\n",
       "       sightWardsPlaced   kda result  \n",
       "0                    15  7.50    WON  \n",
       "1                    35  5.00    WON  \n",
       "2                    17  0.83   LOST  \n",
       "3                    15  6.00    WON  \n",
       "4                    17  3.75    WON  \n",
       "...                 ...   ...    ...  \n",
       "11855                39  3.43    WON  \n",
       "11856                 5  1.70   LOST  \n",
       "11857                 4  1.83    WON  \n",
       "11858                 5  1.17   LOST  \n",
       "11859                 5  5.67    WON  \n",
       "\n",
       "[11860 rows x 16 columns]"
      ]
     },
     "execution_count": 159,
     "metadata": {},
     "output_type": "execute_result"
    }
   ],
   "source": [
    "data['Champion'] = [champ_dic.get(champ, champ) for champ in df['championId']]\n",
    "df = pd.DataFrame(data=data)\n",
    "\n",
    "fifth_col = df.pop('Champion')\n",
    "df.insert(5, 'Champion', fifth_col)\n",
    "df"
   ]
  },
  {
   "cell_type": "markdown",
   "id": "05774cc3",
   "metadata": {},
   "source": [
    "Saving our dataframe into a csv file for convinence. "
   ]
  },
  {
   "cell_type": "code",
   "execution_count": 99,
   "id": "0de13164",
   "metadata": {
    "scrolled": false
   },
   "outputs": [
    {
     "data": {
      "text/html": [
       "<div>\n",
       "<style scoped>\n",
       "    .dataframe tbody tr th:only-of-type {\n",
       "        vertical-align: middle;\n",
       "    }\n",
       "\n",
       "    .dataframe tbody tr th {\n",
       "        vertical-align: top;\n",
       "    }\n",
       "\n",
       "    .dataframe thead th {\n",
       "        text-align: right;\n",
       "    }\n",
       "</style>\n",
       "<table border=\"1\" class=\"dataframe\">\n",
       "  <thead>\n",
       "    <tr style=\"text-align: right;\">\n",
       "      <th></th>\n",
       "      <th>summonerName</th>\n",
       "      <th>region</th>\n",
       "      <th>winRate</th>\n",
       "      <th>hotStreak</th>\n",
       "      <th>championId</th>\n",
       "      <th>Champion</th>\n",
       "      <th>team</th>\n",
       "      <th>role</th>\n",
       "      <th>cs</th>\n",
       "      <th>csDiff10</th>\n",
       "      <th>kp</th>\n",
       "      <th>mvpScore</th>\n",
       "      <th>controlWardsPlaced</th>\n",
       "      <th>sightWardsPlaced</th>\n",
       "      <th>kda</th>\n",
       "      <th>result</th>\n",
       "    </tr>\n",
       "  </thead>\n",
       "  <tbody>\n",
       "    <tr>\n",
       "      <th>0</th>\n",
       "      <td>lts a process</td>\n",
       "      <td>NA</td>\n",
       "      <td>0.52</td>\n",
       "      <td>False</td>\n",
       "      <td>111</td>\n",
       "      <td>Nautilus</td>\n",
       "      <td>RED</td>\n",
       "      <td>SUPPORT</td>\n",
       "      <td>36</td>\n",
       "      <td>14</td>\n",
       "      <td>57.69</td>\n",
       "      <td>3</td>\n",
       "      <td>1</td>\n",
       "      <td>15</td>\n",
       "      <td>7.50</td>\n",
       "      <td>WON</td>\n",
       "    </tr>\n",
       "    <tr>\n",
       "      <th>1</th>\n",
       "      <td>lts a process</td>\n",
       "      <td>NA</td>\n",
       "      <td>0.52</td>\n",
       "      <td>False</td>\n",
       "      <td>117</td>\n",
       "      <td>Lulu</td>\n",
       "      <td>RED</td>\n",
       "      <td>SUPPORT</td>\n",
       "      <td>17</td>\n",
       "      <td>-10</td>\n",
       "      <td>50.00</td>\n",
       "      <td>4</td>\n",
       "      <td>3</td>\n",
       "      <td>35</td>\n",
       "      <td>5.00</td>\n",
       "      <td>WON</td>\n",
       "    </tr>\n",
       "    <tr>\n",
       "      <th>2</th>\n",
       "      <td>lts a process</td>\n",
       "      <td>NA</td>\n",
       "      <td>0.52</td>\n",
       "      <td>False</td>\n",
       "      <td>117</td>\n",
       "      <td>Lulu</td>\n",
       "      <td>BLUE</td>\n",
       "      <td>SUPPORT</td>\n",
       "      <td>7</td>\n",
       "      <td>-2</td>\n",
       "      <td>38.46</td>\n",
       "      <td>9</td>\n",
       "      <td>0</td>\n",
       "      <td>17</td>\n",
       "      <td>0.83</td>\n",
       "      <td>LOST</td>\n",
       "    </tr>\n",
       "    <tr>\n",
       "      <th>3</th>\n",
       "      <td>lts a process</td>\n",
       "      <td>NA</td>\n",
       "      <td>0.52</td>\n",
       "      <td>False</td>\n",
       "      <td>117</td>\n",
       "      <td>Lulu</td>\n",
       "      <td>RED</td>\n",
       "      <td>SUPPORT</td>\n",
       "      <td>8</td>\n",
       "      <td>-6</td>\n",
       "      <td>50.00</td>\n",
       "      <td>3</td>\n",
       "      <td>1</td>\n",
       "      <td>15</td>\n",
       "      <td>6.00</td>\n",
       "      <td>WON</td>\n",
       "    </tr>\n",
       "    <tr>\n",
       "      <th>4</th>\n",
       "      <td>lts a process</td>\n",
       "      <td>NA</td>\n",
       "      <td>0.52</td>\n",
       "      <td>False</td>\n",
       "      <td>117</td>\n",
       "      <td>Lulu</td>\n",
       "      <td>BLUE</td>\n",
       "      <td>SUPPORT</td>\n",
       "      <td>9</td>\n",
       "      <td>3</td>\n",
       "      <td>62.50</td>\n",
       "      <td>4</td>\n",
       "      <td>4</td>\n",
       "      <td>17</td>\n",
       "      <td>3.75</td>\n",
       "      <td>WON</td>\n",
       "    </tr>\n",
       "    <tr>\n",
       "      <th>...</th>\n",
       "      <td>...</td>\n",
       "      <td>...</td>\n",
       "      <td>...</td>\n",
       "      <td>...</td>\n",
       "      <td>...</td>\n",
       "      <td>...</td>\n",
       "      <td>...</td>\n",
       "      <td>...</td>\n",
       "      <td>...</td>\n",
       "      <td>...</td>\n",
       "      <td>...</td>\n",
       "      <td>...</td>\n",
       "      <td>...</td>\n",
       "      <td>...</td>\n",
       "      <td>...</td>\n",
       "      <td>...</td>\n",
       "    </tr>\n",
       "    <tr>\n",
       "      <th>11855</th>\n",
       "      <td>langman de</td>\n",
       "      <td>KR</td>\n",
       "      <td>0.60</td>\n",
       "      <td>False</td>\n",
       "      <td>80</td>\n",
       "      <td>Pantheon</td>\n",
       "      <td>RED</td>\n",
       "      <td>SUPPORT</td>\n",
       "      <td>82</td>\n",
       "      <td>13</td>\n",
       "      <td>61.54</td>\n",
       "      <td>2</td>\n",
       "      <td>15</td>\n",
       "      <td>39</td>\n",
       "      <td>3.43</td>\n",
       "      <td>WON</td>\n",
       "    </tr>\n",
       "    <tr>\n",
       "      <th>11856</th>\n",
       "      <td>langman de</td>\n",
       "      <td>KR</td>\n",
       "      <td>0.60</td>\n",
       "      <td>False</td>\n",
       "      <td>119</td>\n",
       "      <td>Draven</td>\n",
       "      <td>RED</td>\n",
       "      <td>ADC</td>\n",
       "      <td>204</td>\n",
       "      <td>5</td>\n",
       "      <td>50.00</td>\n",
       "      <td>7</td>\n",
       "      <td>3</td>\n",
       "      <td>5</td>\n",
       "      <td>1.70</td>\n",
       "      <td>LOST</td>\n",
       "    </tr>\n",
       "    <tr>\n",
       "      <th>11857</th>\n",
       "      <td>langman de</td>\n",
       "      <td>KR</td>\n",
       "      <td>0.60</td>\n",
       "      <td>False</td>\n",
       "      <td>81</td>\n",
       "      <td>Ezreal</td>\n",
       "      <td>RED</td>\n",
       "      <td>ADC</td>\n",
       "      <td>163</td>\n",
       "      <td>-32</td>\n",
       "      <td>34.38</td>\n",
       "      <td>7</td>\n",
       "      <td>3</td>\n",
       "      <td>4</td>\n",
       "      <td>1.83</td>\n",
       "      <td>WON</td>\n",
       "    </tr>\n",
       "    <tr>\n",
       "      <th>11858</th>\n",
       "      <td>langman de</td>\n",
       "      <td>KR</td>\n",
       "      <td>0.60</td>\n",
       "      <td>False</td>\n",
       "      <td>236</td>\n",
       "      <td>Lucian</td>\n",
       "      <td>BLUE</td>\n",
       "      <td>ADC</td>\n",
       "      <td>194</td>\n",
       "      <td>8</td>\n",
       "      <td>38.89</td>\n",
       "      <td>10</td>\n",
       "      <td>0</td>\n",
       "      <td>5</td>\n",
       "      <td>1.17</td>\n",
       "      <td>LOST</td>\n",
       "    </tr>\n",
       "    <tr>\n",
       "      <th>11859</th>\n",
       "      <td>langman de</td>\n",
       "      <td>KR</td>\n",
       "      <td>0.60</td>\n",
       "      <td>False</td>\n",
       "      <td>498</td>\n",
       "      <td>Xayah</td>\n",
       "      <td>BLUE</td>\n",
       "      <td>ADC</td>\n",
       "      <td>240</td>\n",
       "      <td>-35</td>\n",
       "      <td>42.50</td>\n",
       "      <td>3</td>\n",
       "      <td>3</td>\n",
       "      <td>5</td>\n",
       "      <td>5.67</td>\n",
       "      <td>WON</td>\n",
       "    </tr>\n",
       "  </tbody>\n",
       "</table>\n",
       "<p>11860 rows × 16 columns</p>\n",
       "</div>"
      ],
      "text/plain": [
       "        summonerName region  winRate  hotStreak  championId  Champion  team  \\\n",
       "0      lts a process     NA     0.52      False         111  Nautilus   RED   \n",
       "1      lts a process     NA     0.52      False         117      Lulu   RED   \n",
       "2      lts a process     NA     0.52      False         117      Lulu  BLUE   \n",
       "3      lts a process     NA     0.52      False         117      Lulu   RED   \n",
       "4      lts a process     NA     0.52      False         117      Lulu  BLUE   \n",
       "...              ...    ...      ...        ...         ...       ...   ...   \n",
       "11855     langman de     KR     0.60      False          80  Pantheon   RED   \n",
       "11856     langman de     KR     0.60      False         119    Draven   RED   \n",
       "11857     langman de     KR     0.60      False          81    Ezreal   RED   \n",
       "11858     langman de     KR     0.60      False         236    Lucian  BLUE   \n",
       "11859     langman de     KR     0.60      False         498     Xayah  BLUE   \n",
       "\n",
       "          role   cs  csDiff10     kp  mvpScore  controlWardsPlaced  \\\n",
       "0      SUPPORT   36        14  57.69         3                   1   \n",
       "1      SUPPORT   17       -10  50.00         4                   3   \n",
       "2      SUPPORT    7        -2  38.46         9                   0   \n",
       "3      SUPPORT    8        -6  50.00         3                   1   \n",
       "4      SUPPORT    9         3  62.50         4                   4   \n",
       "...        ...  ...       ...    ...       ...                 ...   \n",
       "11855  SUPPORT   82        13  61.54         2                  15   \n",
       "11856      ADC  204         5  50.00         7                   3   \n",
       "11857      ADC  163       -32  34.38         7                   3   \n",
       "11858      ADC  194         8  38.89        10                   0   \n",
       "11859      ADC  240       -35  42.50         3                   3   \n",
       "\n",
       "       sightWardsPlaced   kda result  \n",
       "0                    15  7.50    WON  \n",
       "1                    35  5.00    WON  \n",
       "2                    17  0.83   LOST  \n",
       "3                    15  6.00    WON  \n",
       "4                    17  3.75    WON  \n",
       "...                 ...   ...    ...  \n",
       "11855                39  3.43    WON  \n",
       "11856                 5  1.70   LOST  \n",
       "11857                 4  1.83    WON  \n",
       "11858                 5  1.17   LOST  \n",
       "11859                 5  5.67    WON  \n",
       "\n",
       "[11860 rows x 16 columns]"
      ]
     },
     "execution_count": 99,
     "metadata": {},
     "output_type": "execute_result"
    }
   ],
   "source": [
    "df = pd.read_csv('LOL Data')\n",
    "df['region'] = df['region'].fillna('NA')\n",
    "df"
   ]
  },
  {
   "cell_type": "markdown",
   "id": "9ba2ce5d",
   "metadata": {},
   "source": [
    "## Data Processing"
   ]
  },
  {
   "cell_type": "markdown",
   "id": "f1dc799a",
   "metadata": {},
   "source": [
    "### Check for Imbalanced Data  \n",
    "Imbalanced data mean that the number of observations differ for the classes in a classification dataset. In machine learning, this imbalance can lead to inaccurate results. Therefore, we want to check whether our dataset is imbalanced or not to eliminate potential data bias.\n",
    "\n",
    "For our project, we want to check if the number of games won/lost are approximately evenly distributed and if the number of teams in BLUE/red are approximately evenly distributed."
   ]
  },
  {
   "cell_type": "markdown",
   "id": "c76306e9",
   "metadata": {},
   "source": [
    "Based on the pie charts below, we can see that about 55% of the samples from our dataset won the game, and about 45% of the samples form our dataset lost the game. About 52% of the samples are from team RED, and about 48% of the samples are from team BLUE. This is well-distributed data since the classes are all clost to 50% each, and there is no action needed for handling imbalance data."
   ]
  },
  {
   "cell_type": "code",
   "execution_count": 63,
   "id": "128351c7",
   "metadata": {
    "scrolled": false
   },
   "outputs": [
    {
     "data": {
      "text/plain": [
       "<AxesSubplot:title={'center':'Team Distribution'}, ylabel='team'>"
      ]
     },
     "execution_count": 63,
     "metadata": {},
     "output_type": "execute_result"
    },
    {
     "data": {
      "image/png": "[encoded data removed]",
      "text/plain": [
       "<Figure size 1296x1008 with 2 Axes>"
      ]
     },
     "metadata": {},
     "output_type": "display_data"
    }
   ],
   "source": [
    "fig = plt.figure(figsize=(18,14))\n",
    "\n",
    "ax1 = plt.subplot2grid((2,2),(0,0))\n",
    "plt.title('Game Result Distriution')\n",
    "df['result'].value_counts().plot.pie(autopct='%1.f%%')\n",
    "\n",
    "ax2 = plt.subplot2grid((2,2),(0,1))\n",
    "plt.title('Team Distribution')\n",
    "df['team'].value_counts().plot.pie(autopct='%1.f%%')"
   ]
  },
  {
   "cell_type": "markdown",
   "id": "d35d286b",
   "metadata": {},
   "source": [
    "Since there are five different roles in games of LoL, we also want to check whether these five roles are well-distributed across our samples. \n",
    "\n",
    "As shown in the pie char below, the five roles are approximately evenly distributed, each role has about 20% ratio in the entire sample, and we do not need no handle imbalance data."
   ]
  },
  {
   "cell_type": "code",
   "execution_count": 70,
   "id": "be22630d",
   "metadata": {
    "scrolled": false
   },
   "outputs": [
    {
     "data": {
      "text/plain": [
       "<AxesSubplot:title={'center':'Role Distribution'}, ylabel='role'>"
      ]
     },
     "execution_count": 70,
     "metadata": {},
     "output_type": "execute_result"
    },
    {
     "data": {
      "image/png": "[encoded data removed]",
      "text/plain": [
       "<Figure size 720x504 with 1 Axes>"
      ]
     },
     "metadata": {},
     "output_type": "display_data"
    }
   ],
   "source": [
    "fig = plt.figure(figsize=(10,7))\n",
    "plt.title('Role Distribution')\n",
    "df['role'].value_counts().plot.pie(autopct='%1.f%%')"
   ]
  },
  {
   "cell_type": "markdown",
   "id": "40bcafab",
   "metadata": {},
   "source": [
    "#### Feature Correlation Heat Map"
   ]
  },
  {
   "cell_type": "markdown",
   "id": "b928a31b",
   "metadata": {},
   "source": [
    "In machine learning, we need to be aware of multicollinearity which occurs when two or more independent varaibles are highly correlated with one another. This means that an independent variable can be predicted from another independent variable. Multicollinearity may affect the accuracy of our model and we might lost reliability in determining the effects of individual independent features on the dependent feature.\n",
    "\n",
    "To check for multicollinearity, we plot a heatmap among all the features to learn their correlation with one another."
   ]
  },
  {
   "cell_type": "code",
   "execution_count": 81,
   "id": "bd2cbb8c",
   "metadata": {
    "scrolled": false
   },
   "outputs": [
    {
     "data": {
      "text/plain": [
       "Text(0.5, 1.0, 'HeatMap for Features Correlation')"
      ]
     },
     "execution_count": 81,
     "metadata": {},
     "output_type": "execute_result"
    },
    {
     "data": {
      "image/png": "[encoded data removed]",
      "text/plain": [
       "<Figure size 1440x1440 with 2 Axes>"
      ]
     },
     "metadata": {
      "needs_background": "light"
     },
     "output_type": "display_data"
    }
   ],
   "source": [
    "plt.figure(figsize=(20,20))\n",
    "sns.heatmap(df.corr(), cmap='vlag', annot=True)\n",
    "plt.title('HeatMap for Features Correlation')"
   ]
  },
  {
   "cell_type": "markdown",
   "id": "142997a5",
   "metadata": {},
   "source": [
    "After reviewing the heatmap above, we can see that feature `mvpScore` has high correaltion with features `kda` and `result`. Therefore, we are going to drop `mvpScore` for our later machine learning models"
   ]
  },
  {
   "cell_type": "code",
   "execution_count": 64,
   "id": "409c3e00",
   "metadata": {},
   "outputs": [
    {
     "data": {
      "text/html": [
       "<div>\n",
       "<style scoped>\n",
       "    .dataframe tbody tr th:only-of-type {\n",
       "        vertical-align: middle;\n",
       "    }\n",
       "\n",
       "    .dataframe tbody tr th {\n",
       "        vertical-align: top;\n",
       "    }\n",
       "\n",
       "    .dataframe thead th {\n",
       "        text-align: right;\n",
       "    }\n",
       "</style>\n",
       "<table border=\"1\" class=\"dataframe\">\n",
       "  <thead>\n",
       "    <tr style=\"text-align: right;\">\n",
       "      <th></th>\n",
       "      <th>summonerName</th>\n",
       "      <th>region</th>\n",
       "      <th>winRate</th>\n",
       "      <th>hotStreak</th>\n",
       "      <th>championId</th>\n",
       "      <th>Champion</th>\n",
       "      <th>team</th>\n",
       "      <th>role</th>\n",
       "      <th>cs</th>\n",
       "      <th>csDiff10</th>\n",
       "      <th>kp</th>\n",
       "      <th>controlWardsPlaced</th>\n",
       "      <th>sightWardsPlaced</th>\n",
       "      <th>kda</th>\n",
       "      <th>result</th>\n",
       "    </tr>\n",
       "  </thead>\n",
       "  <tbody>\n",
       "    <tr>\n",
       "      <th>0</th>\n",
       "      <td>lts a process</td>\n",
       "      <td>NA</td>\n",
       "      <td>0.52</td>\n",
       "      <td>False</td>\n",
       "      <td>111</td>\n",
       "      <td>Nautilus</td>\n",
       "      <td>RED</td>\n",
       "      <td>SUPPORT</td>\n",
       "      <td>36</td>\n",
       "      <td>14</td>\n",
       "      <td>57.69</td>\n",
       "      <td>1</td>\n",
       "      <td>15</td>\n",
       "      <td>7.50</td>\n",
       "      <td>WON</td>\n",
       "    </tr>\n",
       "    <tr>\n",
       "      <th>1</th>\n",
       "      <td>lts a process</td>\n",
       "      <td>NA</td>\n",
       "      <td>0.52</td>\n",
       "      <td>False</td>\n",
       "      <td>117</td>\n",
       "      <td>Lulu</td>\n",
       "      <td>RED</td>\n",
       "      <td>SUPPORT</td>\n",
       "      <td>17</td>\n",
       "      <td>-10</td>\n",
       "      <td>50.00</td>\n",
       "      <td>3</td>\n",
       "      <td>35</td>\n",
       "      <td>5.00</td>\n",
       "      <td>WON</td>\n",
       "    </tr>\n",
       "    <tr>\n",
       "      <th>2</th>\n",
       "      <td>lts a process</td>\n",
       "      <td>NA</td>\n",
       "      <td>0.52</td>\n",
       "      <td>False</td>\n",
       "      <td>117</td>\n",
       "      <td>Lulu</td>\n",
       "      <td>BLUE</td>\n",
       "      <td>SUPPORT</td>\n",
       "      <td>7</td>\n",
       "      <td>-2</td>\n",
       "      <td>38.46</td>\n",
       "      <td>0</td>\n",
       "      <td>17</td>\n",
       "      <td>0.83</td>\n",
       "      <td>LOST</td>\n",
       "    </tr>\n",
       "    <tr>\n",
       "      <th>3</th>\n",
       "      <td>lts a process</td>\n",
       "      <td>NA</td>\n",
       "      <td>0.52</td>\n",
       "      <td>False</td>\n",
       "      <td>117</td>\n",
       "      <td>Lulu</td>\n",
       "      <td>RED</td>\n",
       "      <td>SUPPORT</td>\n",
       "      <td>8</td>\n",
       "      <td>-6</td>\n",
       "      <td>50.00</td>\n",
       "      <td>1</td>\n",
       "      <td>15</td>\n",
       "      <td>6.00</td>\n",
       "      <td>WON</td>\n",
       "    </tr>\n",
       "    <tr>\n",
       "      <th>4</th>\n",
       "      <td>lts a process</td>\n",
       "      <td>NA</td>\n",
       "      <td>0.52</td>\n",
       "      <td>False</td>\n",
       "      <td>117</td>\n",
       "      <td>Lulu</td>\n",
       "      <td>BLUE</td>\n",
       "      <td>SUPPORT</td>\n",
       "      <td>9</td>\n",
       "      <td>3</td>\n",
       "      <td>62.50</td>\n",
       "      <td>4</td>\n",
       "      <td>17</td>\n",
       "      <td>3.75</td>\n",
       "      <td>WON</td>\n",
       "    </tr>\n",
       "    <tr>\n",
       "      <th>...</th>\n",
       "      <td>...</td>\n",
       "      <td>...</td>\n",
       "      <td>...</td>\n",
       "      <td>...</td>\n",
       "      <td>...</td>\n",
       "      <td>...</td>\n",
       "      <td>...</td>\n",
       "      <td>...</td>\n",
       "      <td>...</td>\n",
       "      <td>...</td>\n",
       "      <td>...</td>\n",
       "      <td>...</td>\n",
       "      <td>...</td>\n",
       "      <td>...</td>\n",
       "      <td>...</td>\n",
       "    </tr>\n",
       "    <tr>\n",
       "      <th>11855</th>\n",
       "      <td>langman de</td>\n",
       "      <td>KR</td>\n",
       "      <td>0.60</td>\n",
       "      <td>False</td>\n",
       "      <td>80</td>\n",
       "      <td>Pantheon</td>\n",
       "      <td>RED</td>\n",
       "      <td>SUPPORT</td>\n",
       "      <td>82</td>\n",
       "      <td>13</td>\n",
       "      <td>61.54</td>\n",
       "      <td>15</td>\n",
       "      <td>39</td>\n",
       "      <td>3.43</td>\n",
       "      <td>WON</td>\n",
       "    </tr>\n",
       "    <tr>\n",
       "      <th>11856</th>\n",
       "      <td>langman de</td>\n",
       "      <td>KR</td>\n",
       "      <td>0.60</td>\n",
       "      <td>False</td>\n",
       "      <td>119</td>\n",
       "      <td>Draven</td>\n",
       "      <td>RED</td>\n",
       "      <td>ADC</td>\n",
       "      <td>204</td>\n",
       "      <td>5</td>\n",
       "      <td>50.00</td>\n",
       "      <td>3</td>\n",
       "      <td>5</td>\n",
       "      <td>1.70</td>\n",
       "      <td>LOST</td>\n",
       "    </tr>\n",
       "    <tr>\n",
       "      <th>11857</th>\n",
       "      <td>langman de</td>\n",
       "      <td>KR</td>\n",
       "      <td>0.60</td>\n",
       "      <td>False</td>\n",
       "      <td>81</td>\n",
       "      <td>Ezreal</td>\n",
       "      <td>RED</td>\n",
       "      <td>ADC</td>\n",
       "      <td>163</td>\n",
       "      <td>-32</td>\n",
       "      <td>34.38</td>\n",
       "      <td>3</td>\n",
       "      <td>4</td>\n",
       "      <td>1.83</td>\n",
       "      <td>WON</td>\n",
       "    </tr>\n",
       "    <tr>\n",
       "      <th>11858</th>\n",
       "      <td>langman de</td>\n",
       "      <td>KR</td>\n",
       "      <td>0.60</td>\n",
       "      <td>False</td>\n",
       "      <td>236</td>\n",
       "      <td>Lucian</td>\n",
       "      <td>BLUE</td>\n",
       "      <td>ADC</td>\n",
       "      <td>194</td>\n",
       "      <td>8</td>\n",
       "      <td>38.89</td>\n",
       "      <td>0</td>\n",
       "      <td>5</td>\n",
       "      <td>1.17</td>\n",
       "      <td>LOST</td>\n",
       "    </tr>\n",
       "    <tr>\n",
       "      <th>11859</th>\n",
       "      <td>langman de</td>\n",
       "      <td>KR</td>\n",
       "      <td>0.60</td>\n",
       "      <td>False</td>\n",
       "      <td>498</td>\n",
       "      <td>Xayah</td>\n",
       "      <td>BLUE</td>\n",
       "      <td>ADC</td>\n",
       "      <td>240</td>\n",
       "      <td>-35</td>\n",
       "      <td>42.50</td>\n",
       "      <td>3</td>\n",
       "      <td>5</td>\n",
       "      <td>5.67</td>\n",
       "      <td>WON</td>\n",
       "    </tr>\n",
       "  </tbody>\n",
       "</table>\n",
       "<p>11860 rows × 15 columns</p>\n",
       "</div>"
      ],
      "text/plain": [
       "        summonerName region  winRate  hotStreak  championId  Champion  team  \\\n",
       "0      lts a process     NA     0.52      False         111  Nautilus   RED   \n",
       "1      lts a process     NA     0.52      False         117      Lulu   RED   \n",
       "2      lts a process     NA     0.52      False         117      Lulu  BLUE   \n",
       "3      lts a process     NA     0.52      False         117      Lulu   RED   \n",
       "4      lts a process     NA     0.52      False         117      Lulu  BLUE   \n",
       "...              ...    ...      ...        ...         ...       ...   ...   \n",
       "11855     langman de     KR     0.60      False          80  Pantheon   RED   \n",
       "11856     langman de     KR     0.60      False         119    Draven   RED   \n",
       "11857     langman de     KR     0.60      False          81    Ezreal   RED   \n",
       "11858     langman de     KR     0.60      False         236    Lucian  BLUE   \n",
       "11859     langman de     KR     0.60      False         498     Xayah  BLUE   \n",
       "\n",
       "          role   cs  csDiff10     kp  controlWardsPlaced  sightWardsPlaced  \\\n",
       "0      SUPPORT   36        14  57.69                   1                15   \n",
       "1      SUPPORT   17       -10  50.00                   3                35   \n",
       "2      SUPPORT    7        -2  38.46                   0                17   \n",
       "3      SUPPORT    8        -6  50.00                   1                15   \n",
       "4      SUPPORT    9         3  62.50                   4                17   \n",
       "...        ...  ...       ...    ...                 ...               ...   \n",
       "11855  SUPPORT   82        13  61.54                  15                39   \n",
       "11856      ADC  204         5  50.00                   3                 5   \n",
       "11857      ADC  163       -32  34.38                   3                 4   \n",
       "11858      ADC  194         8  38.89                   0                 5   \n",
       "11859      ADC  240       -35  42.50                   3                 5   \n",
       "\n",
       "        kda result  \n",
       "0      7.50    WON  \n",
       "1      5.00    WON  \n",
       "2      0.83   LOST  \n",
       "3      6.00    WON  \n",
       "4      3.75    WON  \n",
       "...     ...    ...  \n",
       "11855  3.43    WON  \n",
       "11856  1.70   LOST  \n",
       "11857  1.83    WON  \n",
       "11858  1.17   LOST  \n",
       "11859  5.67    WON  \n",
       "\n",
       "[11860 rows x 15 columns]"
      ]
     },
     "execution_count": 64,
     "metadata": {},
     "output_type": "execute_result"
    }
   ],
   "source": [
    "df = df.drop('mvpScore', 1)\n",
    "df"
   ]
  },
  {
   "cell_type": "markdown",
   "id": "08c9c119",
   "metadata": {},
   "source": [
    "### Data Encoding"
   ]
  },
  {
   "cell_type": "markdown",
   "id": "8a56a408",
   "metadata": {},
   "source": [
    "When working with real-world data, many machine learning algorithms require that you prepare your data in specific ways before fitting a machine learning model. For our project, we will tranform binary categorical data and boolean with 0 and 1. \n",
    "\n",
    "- region: 0 for NA, 1 for KR\n",
    "- hotStreak: 0 for False, 1 for True\n",
    "- team: 0 for BLUE, 1 for RED\n",
    "- result: 0 for LOST, 1 for WON"
   ]
  },
  {
   "cell_type": "code",
   "execution_count": 100,
   "id": "671cc050",
   "metadata": {},
   "outputs": [],
   "source": [
    "df['region'].replace({'NA':0, 'KR':1}, inplace=True)  # NA:0, KR: 1\n",
    "df['hotStreak'].replace({'False':0, 'True':1}, inplace=True)\n",
    "df['team'].replace({'RED':1, 'BLUE':0}, inplace=True) # Blue: 0, Red: 1\n",
    "df['result'].replace({'LOST':0, 'WON':1}, inplace=True)"
   ]
  },
  {
   "cell_type": "markdown",
   "id": "414d7633",
   "metadata": {},
   "source": [
    "For other categorical values with more than two differen values, we will use one-hot encoding by `get_dummies` imported from `pandas`. With one-hot encoding, we convert each categorical value into a new categorical column and assign a binary value of 1 or 0 to those columns. Each integer value is represented as a binary vector.  "
   ]
  },
  {
   "cell_type": "code",
   "execution_count": 101,
   "id": "4236ba44",
   "metadata": {},
   "outputs": [],
   "source": [
    "role_dummies = pd.get_dummies(df['role'], prefix='role')\n",
    "champ_dummies = pd.get_dummies(df.Champion, prefix='champ')\n",
    "df_new = pd.concat([df, champ_dummies], axis=1)\n",
    "df_new = pd.concat([df_new, role_dummies], axis=1)"
   ]
  },
  {
   "cell_type": "code",
   "execution_count": 102,
   "id": "b886f9a3",
   "metadata": {},
   "outputs": [],
   "source": [
    "df_new = df_new.drop('role', 1)\n",
    "df_new = df_new.drop('Champion', 1)"
   ]
  },
  {
   "cell_type": "code",
   "execution_count": 103,
   "id": "6c4373c7",
   "metadata": {
    "scrolled": false
   },
   "outputs": [],
   "source": [
    "# Drop missing data\n",
    "df_new.drop(df_new[df_new['hotStreak']=='NA'].index, inplace=True)"
   ]
  },
  {
   "cell_type": "markdown",
   "id": "3faebb2d",
   "metadata": {},
   "source": [
    "For object data type, convert data type to `int` or `float`"
   ]
  },
  {
   "cell_type": "code",
   "execution_count": 104,
   "id": "8c862e09",
   "metadata": {},
   "outputs": [],
   "source": [
    "df_new['winRate'] = df_new['winRate'].astype('float')\n",
    "df_new['hotStreak'] = df_new['hotStreak'].astype('int')"
   ]
  },
  {
   "cell_type": "markdown",
   "id": "114de71f",
   "metadata": {},
   "source": [
    "Since our purpose is to predict game result, we will make feature `result` as our dependent variable in our machine learning models. Therefore, we take out `result` column from the original dataset and assign it to a single label set named `labels`."
   ]
  },
  {
   "cell_type": "code",
   "execution_count": 105,
   "id": "83ef536f",
   "metadata": {},
   "outputs": [],
   "source": [
    "labels = df_new['result']\n",
    "df_new = df_new.drop(columns=['result'])"
   ]
  },
  {
   "cell_type": "markdown",
   "id": "37c8fc01",
   "metadata": {},
   "source": [
    "We will also drop feature `summonerName` and `region` becasue they are irrelevant to game results."
   ]
  },
  {
   "cell_type": "code",
   "execution_count": 106,
   "id": "6b48eb22",
   "metadata": {},
   "outputs": [],
   "source": [
    "df_new = df_new.drop(columns=['summonerName'])\n",
    "df_new = df_new.drop(columns=['region']) "
   ]
  },
  {
   "cell_type": "code",
   "execution_count": 107,
   "id": "f27999a0",
   "metadata": {},
   "outputs": [
    {
     "data": {
      "text/html": [
       "<div>\n",
       "<style scoped>\n",
       "    .dataframe tbody tr th:only-of-type {\n",
       "        vertical-align: middle;\n",
       "    }\n",
       "\n",
       "    .dataframe tbody tr th {\n",
       "        vertical-align: top;\n",
       "    }\n",
       "\n",
       "    .dataframe thead th {\n",
       "        text-align: right;\n",
       "    }\n",
       "</style>\n",
       "<table border=\"1\" class=\"dataframe\">\n",
       "  <thead>\n",
       "    <tr style=\"text-align: right;\">\n",
       "      <th></th>\n",
       "      <th>winRate</th>\n",
       "      <th>hotStreak</th>\n",
       "      <th>championId</th>\n",
       "      <th>team</th>\n",
       "      <th>cs</th>\n",
       "      <th>csDiff10</th>\n",
       "      <th>kp</th>\n",
       "      <th>mvpScore</th>\n",
       "      <th>controlWardsPlaced</th>\n",
       "      <th>sightWardsPlaced</th>\n",
       "      <th>...</th>\n",
       "      <th>champ_Zeri</th>\n",
       "      <th>champ_Ziggs</th>\n",
       "      <th>champ_Zilean</th>\n",
       "      <th>champ_Zoe</th>\n",
       "      <th>champ_Zyra</th>\n",
       "      <th>role_ADC</th>\n",
       "      <th>role_JUNGLE</th>\n",
       "      <th>role_MID</th>\n",
       "      <th>role_SUPPORT</th>\n",
       "      <th>role_TOP</th>\n",
       "    </tr>\n",
       "  </thead>\n",
       "  <tbody>\n",
       "    <tr>\n",
       "      <th>0</th>\n",
       "      <td>0.52</td>\n",
       "      <td>0</td>\n",
       "      <td>111</td>\n",
       "      <td>1</td>\n",
       "      <td>36</td>\n",
       "      <td>14</td>\n",
       "      <td>57.69</td>\n",
       "      <td>3</td>\n",
       "      <td>1</td>\n",
       "      <td>15</td>\n",
       "      <td>...</td>\n",
       "      <td>0</td>\n",
       "      <td>0</td>\n",
       "      <td>0</td>\n",
       "      <td>0</td>\n",
       "      <td>0</td>\n",
       "      <td>0</td>\n",
       "      <td>0</td>\n",
       "      <td>0</td>\n",
       "      <td>1</td>\n",
       "      <td>0</td>\n",
       "    </tr>\n",
       "    <tr>\n",
       "      <th>1</th>\n",
       "      <td>0.52</td>\n",
       "      <td>0</td>\n",
       "      <td>117</td>\n",
       "      <td>1</td>\n",
       "      <td>17</td>\n",
       "      <td>-10</td>\n",
       "      <td>50.00</td>\n",
       "      <td>4</td>\n",
       "      <td>3</td>\n",
       "      <td>35</td>\n",
       "      <td>...</td>\n",
       "      <td>0</td>\n",
       "      <td>0</td>\n",
       "      <td>0</td>\n",
       "      <td>0</td>\n",
       "      <td>0</td>\n",
       "      <td>0</td>\n",
       "      <td>0</td>\n",
       "      <td>0</td>\n",
       "      <td>1</td>\n",
       "      <td>0</td>\n",
       "    </tr>\n",
       "    <tr>\n",
       "      <th>2</th>\n",
       "      <td>0.52</td>\n",
       "      <td>0</td>\n",
       "      <td>117</td>\n",
       "      <td>0</td>\n",
       "      <td>7</td>\n",
       "      <td>-2</td>\n",
       "      <td>38.46</td>\n",
       "      <td>9</td>\n",
       "      <td>0</td>\n",
       "      <td>17</td>\n",
       "      <td>...</td>\n",
       "      <td>0</td>\n",
       "      <td>0</td>\n",
       "      <td>0</td>\n",
       "      <td>0</td>\n",
       "      <td>0</td>\n",
       "      <td>0</td>\n",
       "      <td>0</td>\n",
       "      <td>0</td>\n",
       "      <td>1</td>\n",
       "      <td>0</td>\n",
       "    </tr>\n",
       "    <tr>\n",
       "      <th>3</th>\n",
       "      <td>0.52</td>\n",
       "      <td>0</td>\n",
       "      <td>117</td>\n",
       "      <td>1</td>\n",
       "      <td>8</td>\n",
       "      <td>-6</td>\n",
       "      <td>50.00</td>\n",
       "      <td>3</td>\n",
       "      <td>1</td>\n",
       "      <td>15</td>\n",
       "      <td>...</td>\n",
       "      <td>0</td>\n",
       "      <td>0</td>\n",
       "      <td>0</td>\n",
       "      <td>0</td>\n",
       "      <td>0</td>\n",
       "      <td>0</td>\n",
       "      <td>0</td>\n",
       "      <td>0</td>\n",
       "      <td>1</td>\n",
       "      <td>0</td>\n",
       "    </tr>\n",
       "    <tr>\n",
       "      <th>4</th>\n",
       "      <td>0.52</td>\n",
       "      <td>0</td>\n",
       "      <td>117</td>\n",
       "      <td>0</td>\n",
       "      <td>9</td>\n",
       "      <td>3</td>\n",
       "      <td>62.50</td>\n",
       "      <td>4</td>\n",
       "      <td>4</td>\n",
       "      <td>17</td>\n",
       "      <td>...</td>\n",
       "      <td>0</td>\n",
       "      <td>0</td>\n",
       "      <td>0</td>\n",
       "      <td>0</td>\n",
       "      <td>0</td>\n",
       "      <td>0</td>\n",
       "      <td>0</td>\n",
       "      <td>0</td>\n",
       "      <td>1</td>\n",
       "      <td>0</td>\n",
       "    </tr>\n",
       "    <tr>\n",
       "      <th>...</th>\n",
       "      <td>...</td>\n",
       "      <td>...</td>\n",
       "      <td>...</td>\n",
       "      <td>...</td>\n",
       "      <td>...</td>\n",
       "      <td>...</td>\n",
       "      <td>...</td>\n",
       "      <td>...</td>\n",
       "      <td>...</td>\n",
       "      <td>...</td>\n",
       "      <td>...</td>\n",
       "      <td>...</td>\n",
       "      <td>...</td>\n",
       "      <td>...</td>\n",
       "      <td>...</td>\n",
       "      <td>...</td>\n",
       "      <td>...</td>\n",
       "      <td>...</td>\n",
       "      <td>...</td>\n",
       "      <td>...</td>\n",
       "      <td>...</td>\n",
       "    </tr>\n",
       "    <tr>\n",
       "      <th>11855</th>\n",
       "      <td>0.60</td>\n",
       "      <td>0</td>\n",
       "      <td>80</td>\n",
       "      <td>1</td>\n",
       "      <td>82</td>\n",
       "      <td>13</td>\n",
       "      <td>61.54</td>\n",
       "      <td>2</td>\n",
       "      <td>15</td>\n",
       "      <td>39</td>\n",
       "      <td>...</td>\n",
       "      <td>0</td>\n",
       "      <td>0</td>\n",
       "      <td>0</td>\n",
       "      <td>0</td>\n",
       "      <td>0</td>\n",
       "      <td>0</td>\n",
       "      <td>0</td>\n",
       "      <td>0</td>\n",
       "      <td>1</td>\n",
       "      <td>0</td>\n",
       "    </tr>\n",
       "    <tr>\n",
       "      <th>11856</th>\n",
       "      <td>0.60</td>\n",
       "      <td>0</td>\n",
       "      <td>119</td>\n",
       "      <td>1</td>\n",
       "      <td>204</td>\n",
       "      <td>5</td>\n",
       "      <td>50.00</td>\n",
       "      <td>7</td>\n",
       "      <td>3</td>\n",
       "      <td>5</td>\n",
       "      <td>...</td>\n",
       "      <td>0</td>\n",
       "      <td>0</td>\n",
       "      <td>0</td>\n",
       "      <td>0</td>\n",
       "      <td>0</td>\n",
       "      <td>1</td>\n",
       "      <td>0</td>\n",
       "      <td>0</td>\n",
       "      <td>0</td>\n",
       "      <td>0</td>\n",
       "    </tr>\n",
       "    <tr>\n",
       "      <th>11857</th>\n",
       "      <td>0.60</td>\n",
       "      <td>0</td>\n",
       "      <td>81</td>\n",
       "      <td>1</td>\n",
       "      <td>163</td>\n",
       "      <td>-32</td>\n",
       "      <td>34.38</td>\n",
       "      <td>7</td>\n",
       "      <td>3</td>\n",
       "      <td>4</td>\n",
       "      <td>...</td>\n",
       "      <td>0</td>\n",
       "      <td>0</td>\n",
       "      <td>0</td>\n",
       "      <td>0</td>\n",
       "      <td>0</td>\n",
       "      <td>1</td>\n",
       "      <td>0</td>\n",
       "      <td>0</td>\n",
       "      <td>0</td>\n",
       "      <td>0</td>\n",
       "    </tr>\n",
       "    <tr>\n",
       "      <th>11858</th>\n",
       "      <td>0.60</td>\n",
       "      <td>0</td>\n",
       "      <td>236</td>\n",
       "      <td>0</td>\n",
       "      <td>194</td>\n",
       "      <td>8</td>\n",
       "      <td>38.89</td>\n",
       "      <td>10</td>\n",
       "      <td>0</td>\n",
       "      <td>5</td>\n",
       "      <td>...</td>\n",
       "      <td>0</td>\n",
       "      <td>0</td>\n",
       "      <td>0</td>\n",
       "      <td>0</td>\n",
       "      <td>0</td>\n",
       "      <td>1</td>\n",
       "      <td>0</td>\n",
       "      <td>0</td>\n",
       "      <td>0</td>\n",
       "      <td>0</td>\n",
       "    </tr>\n",
       "    <tr>\n",
       "      <th>11859</th>\n",
       "      <td>0.60</td>\n",
       "      <td>0</td>\n",
       "      <td>498</td>\n",
       "      <td>0</td>\n",
       "      <td>240</td>\n",
       "      <td>-35</td>\n",
       "      <td>42.50</td>\n",
       "      <td>3</td>\n",
       "      <td>3</td>\n",
       "      <td>5</td>\n",
       "      <td>...</td>\n",
       "      <td>0</td>\n",
       "      <td>0</td>\n",
       "      <td>0</td>\n",
       "      <td>0</td>\n",
       "      <td>0</td>\n",
       "      <td>1</td>\n",
       "      <td>0</td>\n",
       "      <td>0</td>\n",
       "      <td>0</td>\n",
       "      <td>0</td>\n",
       "    </tr>\n",
       "  </tbody>\n",
       "</table>\n",
       "<p>11860 rows × 174 columns</p>\n",
       "</div>"
      ],
      "text/plain": [
       "       winRate  hotStreak  championId  team   cs  csDiff10     kp  mvpScore  \\\n",
       "0         0.52          0         111     1   36        14  57.69         3   \n",
       "1         0.52          0         117     1   17       -10  50.00         4   \n",
       "2         0.52          0         117     0    7        -2  38.46         9   \n",
       "3         0.52          0         117     1    8        -6  50.00         3   \n",
       "4         0.52          0         117     0    9         3  62.50         4   \n",
       "...        ...        ...         ...   ...  ...       ...    ...       ...   \n",
       "11855     0.60          0          80     1   82        13  61.54         2   \n",
       "11856     0.60          0         119     1  204         5  50.00         7   \n",
       "11857     0.60          0          81     1  163       -32  34.38         7   \n",
       "11858     0.60          0         236     0  194         8  38.89        10   \n",
       "11859     0.60          0         498     0  240       -35  42.50         3   \n",
       "\n",
       "       controlWardsPlaced  sightWardsPlaced  ...  champ_Zeri  champ_Ziggs  \\\n",
       "0                       1                15  ...           0            0   \n",
       "1                       3                35  ...           0            0   \n",
       "2                       0                17  ...           0            0   \n",
       "3                       1                15  ...           0            0   \n",
       "4                       4                17  ...           0            0   \n",
       "...                   ...               ...  ...         ...          ...   \n",
       "11855                  15                39  ...           0            0   \n",
       "11856                   3                 5  ...           0            0   \n",
       "11857                   3                 4  ...           0            0   \n",
       "11858                   0                 5  ...           0            0   \n",
       "11859                   3                 5  ...           0            0   \n",
       "\n",
       "       champ_Zilean  champ_Zoe  champ_Zyra  role_ADC  role_JUNGLE  role_MID  \\\n",
       "0                 0          0           0         0            0         0   \n",
       "1                 0          0           0         0            0         0   \n",
       "2                 0          0           0         0            0         0   \n",
       "3                 0          0           0         0            0         0   \n",
       "4                 0          0           0         0            0         0   \n",
       "...             ...        ...         ...       ...          ...       ...   \n",
       "11855             0          0           0         0            0         0   \n",
       "11856             0          0           0         1            0         0   \n",
       "11857             0          0           0         1            0         0   \n",
       "11858             0          0           0         1            0         0   \n",
       "11859             0          0           0         1            0         0   \n",
       "\n",
       "       role_SUPPORT  role_TOP  \n",
       "0                 1         0  \n",
       "1                 1         0  \n",
       "2                 1         0  \n",
       "3                 1         0  \n",
       "4                 1         0  \n",
       "...             ...       ...  \n",
       "11855             1         0  \n",
       "11856             0         0  \n",
       "11857             0         0  \n",
       "11858             0         0  \n",
       "11859             0         0  \n",
       "\n",
       "[11860 rows x 174 columns]"
      ]
     },
     "execution_count": 107,
     "metadata": {},
     "output_type": "execute_result"
    }
   ],
   "source": [
    "df_new"
   ]
  },
  {
   "cell_type": "markdown",
   "id": "77a6175c",
   "metadata": {},
   "source": [
    "Befoe implementing our machine learing models, we need to split our dataset into a training dataset and a testing dataset. Here, we will use `train_test_split` imported from `sklearn.model_selection`. We will use 80% of the original dataset as the traning data set, and 20% of the original dataset as the testing dataset"
   ]
  },
  {
   "cell_type": "code",
   "execution_count": 108,
   "id": "310d38aa",
   "metadata": {},
   "outputs": [],
   "source": [
    "from sklearn.model_selection import train_test_split\n",
    "\n",
    "X_train, X_test, y_train, y_test = train_test_split(df_new, labels, test_size=0.2,random_state=42)"
   ]
  },
  {
   "cell_type": "markdown",
   "id": "799a8d0e",
   "metadata": {},
   "source": [
    "Now, we are ready to implement our machine learnig models. For our project, we will implement four machine learning models: \n",
    "- Logistic Regression\n",
    "- SVM\n",
    "- Random Forest\n",
    "- Multi-layer Percptron  \n",
    "\n",
    "For each model, we will train our model with different parameters using `GridSearchCV` to get the best parameters for our model. "
   ]
  },
  {
   "cell_type": "markdown",
   "id": "0cab3251",
   "metadata": {},
   "source": [
    "## Machine Learning Models"
   ]
  },
  {
   "cell_type": "markdown",
   "id": "d3e4a994",
   "metadata": {},
   "source": [
    "### Model 1: Logistic Regression: (*L2* penalizer)\n",
    "In this model, the hyperparaters we tuned are \n",
    "1. the penalty strength paramtera C\n",
    "2. the solver functions"
   ]
  },
  {
   "cell_type": "code",
   "execution_count": 216,
   "id": "779ee00f",
   "metadata": {
    "scrolled": false
   },
   "outputs": [
    {
     "name": "stdout",
     "output_type": "stream",
     "text": [
      "Fitting 5 folds for each of 40 candidates, totalling 200 fits\n",
      "[CV] END .........................C=0.0001, solver=newton-cg; total time=   0.4s\n",
      "[CV] END .........................C=0.0001, solver=newton-cg; total time=   0.4s\n",
      "[CV] END .........................C=0.0001, solver=newton-cg; total time=   0.4s\n",
      "[CV] END .........................C=0.0001, solver=newton-cg; total time=   0.5s\n",
      "[CV] END .........................C=0.0001, solver=newton-cg; total time=   0.4s\n",
      "[CV] END ...............................C=0.0001, solver=sag; total time=   0.9s\n",
      "[CV] END ...............................C=0.0001, solver=sag; total time=   0.9s\n",
      "[CV] END ...............................C=0.0001, solver=sag; total time=   0.9s\n",
      "[CV] END ...............................C=0.0001, solver=sag; total time=   0.9s\n",
      "[CV] END ...............................C=0.0001, solver=sag; total time=   0.9s\n",
      "[CV] END ..............................C=0.0001, solver=saga; total time=   1.8s\n",
      "[CV] END ..............................C=0.0001, solver=saga; total time=   1.8s\n",
      "[CV] END ..............................C=0.0001, solver=saga; total time=   1.8s\n",
      "[CV] END ..............................C=0.0001, solver=saga; total time=   1.8s\n",
      "[CV] END ..............................C=0.0001, solver=saga; total time=   1.9s\n",
      "[CV] END .............................C=0.0001, solver=lbfgs; total time=   0.3s\n",
      "[CV] END .............................C=0.0001, solver=lbfgs; total time=   0.3s\n",
      "[CV] END .............................C=0.0001, solver=lbfgs; total time=   0.3s\n",
      "[CV] END .............................C=0.0001, solver=lbfgs; total time=   0.3s\n",
      "[CV] END .............................C=0.0001, solver=lbfgs; total time=   0.3s\n",
      "[CV] END ...........C=0.000774263682681127, solver=newton-cg; total time=   0.4s\n",
      "[CV] END ...........C=0.000774263682681127, solver=newton-cg; total time=   0.4s\n",
      "[CV] END ...........C=0.000774263682681127, solver=newton-cg; total time=   0.3s\n",
      "[CV] END ...........C=0.000774263682681127, solver=newton-cg; total time=   0.4s\n",
      "[CV] END ...........C=0.000774263682681127, solver=newton-cg; total time=   0.4s\n",
      "[CV] END .................C=0.000774263682681127, solver=sag; total time=   3.6s\n",
      "[CV] END .................C=0.000774263682681127, solver=sag; total time=   3.5s\n",
      "[CV] END .................C=0.000774263682681127, solver=sag; total time=   3.2s\n",
      "[CV] END .................C=0.000774263682681127, solver=sag; total time=   3.2s\n",
      "[CV] END .................C=0.000774263682681127, solver=sag; total time=   3.2s\n",
      "[CV] END ................C=0.000774263682681127, solver=saga; total time=   6.1s\n",
      "[CV] END ................C=0.000774263682681127, solver=saga; total time=   6.5s\n",
      "[CV] END ................C=0.000774263682681127, solver=saga; total time=   6.5s\n",
      "[CV] END ................C=0.000774263682681127, solver=saga; total time=   7.1s\n",
      "[CV] END ................C=0.000774263682681127, solver=saga; total time=   7.3s\n",
      "[CV] END ...............C=0.000774263682681127, solver=lbfgs; total time=   0.4s\n",
      "[CV] END ...............C=0.000774263682681127, solver=lbfgs; total time=   0.5s\n",
      "[CV] END ...............C=0.000774263682681127, solver=lbfgs; total time=   0.5s\n",
      "[CV] END ...............C=0.000774263682681127, solver=lbfgs; total time=   0.5s\n",
      "[CV] END ...............C=0.000774263682681127, solver=lbfgs; total time=   0.6s\n",
      "[CV] END ...........C=0.005994842503189409, solver=newton-cg; total time=   0.6s\n",
      "[CV] END ...........C=0.005994842503189409, solver=newton-cg; total time=   0.5s\n",
      "[CV] END ...........C=0.005994842503189409, solver=newton-cg; total time=   0.5s\n",
      "[CV] END ...........C=0.005994842503189409, solver=newton-cg; total time=   0.5s\n",
      "[CV] END ...........C=0.005994842503189409, solver=newton-cg; total time=   0.5s\n",
      "[CV] END .................C=0.005994842503189409, solver=sag; total time=   9.2s\n",
      "[CV] END .................C=0.005994842503189409, solver=sag; total time=   8.1s\n",
      "[CV] END .................C=0.005994842503189409, solver=sag; total time=   7.6s\n",
      "[CV] END .................C=0.005994842503189409, solver=sag; total time=   7.5s\n",
      "[CV] END .................C=0.005994842503189409, solver=sag; total time=   8.4s\n",
      "[CV] END ................C=0.005994842503189409, solver=saga; total time=  14.1s\n",
      "[CV] END ................C=0.005994842503189409, solver=saga; total time=  13.2s\n",
      "[CV] END ................C=0.005994842503189409, solver=saga; total time=  14.5s\n",
      "[CV] END ................C=0.005994842503189409, solver=saga; total time=  14.9s\n",
      "[CV] END ................C=0.005994842503189409, solver=saga; total time=  14.6s\n",
      "[CV] END ...............C=0.005994842503189409, solver=lbfgs; total time=   0.6s\n",
      "[CV] END ...............C=0.005994842503189409, solver=lbfgs; total time=   0.8s\n",
      "[CV] END ...............C=0.005994842503189409, solver=lbfgs; total time=   0.7s\n",
      "[CV] END ...............C=0.005994842503189409, solver=lbfgs; total time=   0.9s\n",
      "[CV] END ...............C=0.005994842503189409, solver=lbfgs; total time=   0.8s\n",
      "[CV] END ...........C=0.046415888336127774, solver=newton-cg; total time=   0.5s\n",
      "[CV] END ...........C=0.046415888336127774, solver=newton-cg; total time=   0.5s\n",
      "[CV] END ...........C=0.046415888336127774, solver=newton-cg; total time=   0.5s\n",
      "[CV] END ...........C=0.046415888336127774, solver=newton-cg; total time=   0.5s\n",
      "[CV] END ...........C=0.046415888336127774, solver=newton-cg; total time=   0.5s\n",
      "[CV] END .................C=0.046415888336127774, solver=sag; total time=  10.3s\n",
      "[CV] END .................C=0.046415888336127774, solver=sag; total time=  10.0s\n",
      "[CV] END .................C=0.046415888336127774, solver=sag; total time=  10.2s\n",
      "[CV] END .................C=0.046415888336127774, solver=sag; total time=  10.0s\n",
      "[CV] END .................C=0.046415888336127774, solver=sag; total time=  10.1s\n",
      "[CV] END ................C=0.046415888336127774, solver=saga; total time=  17.2s\n",
      "[CV] END ................C=0.046415888336127774, solver=saga; total time=  17.5s\n",
      "[CV] END ................C=0.046415888336127774, solver=saga; total time=  20.9s\n",
      "[CV] END ................C=0.046415888336127774, solver=saga; total time=  19.3s\n",
      "[CV] END ................C=0.046415888336127774, solver=saga; total time=  20.9s\n",
      "[CV] END ...............C=0.046415888336127774, solver=lbfgs; total time=   1.5s\n",
      "[CV] END ...............C=0.046415888336127774, solver=lbfgs; total time=   0.9s\n",
      "[CV] END ...............C=0.046415888336127774, solver=lbfgs; total time=   1.2s\n",
      "[CV] END ...............C=0.046415888336127774, solver=lbfgs; total time=   1.2s\n",
      "[CV] END ...............C=0.046415888336127774, solver=lbfgs; total time=   1.0s\n",
      "[CV] END .............C=0.3593813663804626, solver=newton-cg; total time=   0.8s\n",
      "[CV] END .............C=0.3593813663804626, solver=newton-cg; total time=   0.7s\n",
      "[CV] END .............C=0.3593813663804626, solver=newton-cg; total time=   0.7s\n",
      "[CV] END .............C=0.3593813663804626, solver=newton-cg; total time=   0.7s\n",
      "[CV] END .............C=0.3593813663804626, solver=newton-cg; total time=   0.8s\n",
      "[CV] END ...................C=0.3593813663804626, solver=sag; total time=  10.9s\n",
      "[CV] END ...................C=0.3593813663804626, solver=sag; total time=  10.5s\n",
      "[CV] END ...................C=0.3593813663804626, solver=sag; total time=  10.8s\n",
      "[CV] END ...................C=0.3593813663804626, solver=sag; total time=  10.3s\n",
      "[CV] END ...................C=0.3593813663804626, solver=sag; total time=  10.6s\n",
      "[CV] END ..................C=0.3593813663804626, solver=saga; total time=  18.0s\n",
      "[CV] END ..................C=0.3593813663804626, solver=saga; total time=  17.4s\n",
      "[CV] END ..................C=0.3593813663804626, solver=saga; total time=  17.7s\n",
      "[CV] END ..................C=0.3593813663804626, solver=saga; total time=  18.1s\n",
      "[CV] END ..................C=0.3593813663804626, solver=saga; total time=  18.0s\n",
      "[CV] END .................C=0.3593813663804626, solver=lbfgs; total time=   3.2s\n",
      "[CV] END .................C=0.3593813663804626, solver=lbfgs; total time=   2.2s\n",
      "[CV] END .................C=0.3593813663804626, solver=lbfgs; total time=   2.9s\n",
      "[CV] END .................C=0.3593813663804626, solver=lbfgs; total time=   2.9s\n",
      "[CV] END .................C=0.3593813663804626, solver=lbfgs; total time=   3.2s\n",
      "[CV] END ..............C=2.782559402207126, solver=newton-cg; total time=   1.1s\n"
     ]
    },
    {
     "name": "stdout",
     "output_type": "stream",
     "text": [
      "[CV] END ..............C=2.782559402207126, solver=newton-cg; total time=   1.0s\n",
      "[CV] END ..............C=2.782559402207126, solver=newton-cg; total time=   1.1s\n",
      "[CV] END ..............C=2.782559402207126, solver=newton-cg; total time=   1.1s\n",
      "[CV] END ..............C=2.782559402207126, solver=newton-cg; total time=   0.9s\n",
      "[CV] END ....................C=2.782559402207126, solver=sag; total time=  11.0s\n",
      "[CV] END ....................C=2.782559402207126, solver=sag; total time=  10.6s\n",
      "[CV] END ....................C=2.782559402207126, solver=sag; total time=  10.8s\n",
      "[CV] END ....................C=2.782559402207126, solver=sag; total time=  10.5s\n",
      "[CV] END ....................C=2.782559402207126, solver=sag; total time=  10.7s\n",
      "[CV] END ...................C=2.782559402207126, solver=saga; total time=  18.0s\n",
      "[CV] END ...................C=2.782559402207126, solver=saga; total time=  17.7s\n",
      "[CV] END ...................C=2.782559402207126, solver=saga; total time=  17.8s\n",
      "[CV] END ...................C=2.782559402207126, solver=saga; total time=  17.1s\n",
      "[CV] END ...................C=2.782559402207126, solver=saga; total time=  17.5s\n",
      "[CV] END ..................C=2.782559402207126, solver=lbfgs; total time=   4.5s\n",
      "[CV] END ..................C=2.782559402207126, solver=lbfgs; total time=   3.6s\n",
      "[CV] END ..................C=2.782559402207126, solver=lbfgs; total time=   4.5s\n",
      "[CV] END ..................C=2.782559402207126, solver=lbfgs; total time=   5.6s\n",
      "[CV] END ..................C=2.782559402207126, solver=lbfgs; total time=   4.7s\n",
      "[CV] END ..............C=21.54434690031882, solver=newton-cg; total time=   1.7s\n",
      "[CV] END ..............C=21.54434690031882, solver=newton-cg; total time=   1.7s\n",
      "[CV] END ..............C=21.54434690031882, solver=newton-cg; total time=   1.7s\n",
      "[CV] END ..............C=21.54434690031882, solver=newton-cg; total time=   1.6s\n",
      "[CV] END ..............C=21.54434690031882, solver=newton-cg; total time=   1.5s\n",
      "[CV] END ....................C=21.54434690031882, solver=sag; total time=  10.9s\n",
      "[CV] END ....................C=21.54434690031882, solver=sag; total time=  10.8s\n",
      "[CV] END ....................C=21.54434690031882, solver=sag; total time=  10.9s\n",
      "[CV] END ....................C=21.54434690031882, solver=sag; total time=  10.4s\n",
      "[CV] END ....................C=21.54434690031882, solver=sag; total time=  10.7s\n",
      "[CV] END ...................C=21.54434690031882, solver=saga; total time=  17.9s\n",
      "[CV] END ...................C=21.54434690031882, solver=saga; total time=  17.8s\n",
      "[CV] END ...................C=21.54434690031882, solver=saga; total time=  20.7s\n",
      "[CV] END ...................C=21.54434690031882, solver=saga; total time=  21.6s\n",
      "[CV] END ...................C=21.54434690031882, solver=saga; total time=  20.3s\n",
      "[CV] END ..................C=21.54434690031882, solver=lbfgs; total time=  10.2s\n",
      "[CV] END ..................C=21.54434690031882, solver=lbfgs; total time=   8.0s\n",
      "[CV] END ..................C=21.54434690031882, solver=lbfgs; total time=   7.6s\n",
      "[CV] END ..................C=21.54434690031882, solver=lbfgs; total time=   6.7s\n",
      "[CV] END ..................C=21.54434690031882, solver=lbfgs; total time=   6.8s\n",
      "[CV] END .............C=166.81005372000558, solver=newton-cg; total time=   2.5s\n",
      "[CV] END .............C=166.81005372000558, solver=newton-cg; total time=   3.0s\n",
      "[CV] END .............C=166.81005372000558, solver=newton-cg; total time=   2.8s\n",
      "[CV] END .............C=166.81005372000558, solver=newton-cg; total time=   3.0s\n",
      "[CV] END .............C=166.81005372000558, solver=newton-cg; total time=   2.6s\n",
      "[CV] END ...................C=166.81005372000558, solver=sag; total time=  11.0s\n",
      "[CV] END ...................C=166.81005372000558, solver=sag; total time=  10.6s\n",
      "[CV] END ...................C=166.81005372000558, solver=sag; total time=  10.8s\n",
      "[CV] END ...................C=166.81005372000558, solver=sag; total time=  10.5s\n",
      "[CV] END ...................C=166.81005372000558, solver=sag; total time=  10.7s\n",
      "[CV] END ..................C=166.81005372000558, solver=saga; total time=  18.7s\n",
      "[CV] END ..................C=166.81005372000558, solver=saga; total time=  18.1s\n",
      "[CV] END ..................C=166.81005372000558, solver=saga; total time=  17.8s\n",
      "[CV] END ..................C=166.81005372000558, solver=saga; total time=  17.2s\n",
      "[CV] END ..................C=166.81005372000558, solver=saga; total time=  17.6s\n",
      "[CV] END .................C=166.81005372000558, solver=lbfgs; total time=   6.1s\n",
      "[CV] END .................C=166.81005372000558, solver=lbfgs; total time=   5.8s\n",
      "[CV] END .................C=166.81005372000558, solver=lbfgs; total time=   6.7s\n",
      "[CV] END .................C=166.81005372000558, solver=lbfgs; total time=   6.0s\n",
      "[CV] END .................C=166.81005372000558, solver=lbfgs; total time=   6.4s\n",
      "[CV] END .............C=1291.5496650148827, solver=newton-cg; total time=   3.2s\n",
      "[CV] END .............C=1291.5496650148827, solver=newton-cg; total time=   3.6s\n",
      "[CV] END .............C=1291.5496650148827, solver=newton-cg; total time=   3.9s\n",
      "[CV] END .............C=1291.5496650148827, solver=newton-cg; total time=   3.7s\n",
      "[CV] END .............C=1291.5496650148827, solver=newton-cg; total time=   3.5s\n",
      "[CV] END ...................C=1291.5496650148827, solver=sag; total time=  10.9s\n",
      "[CV] END ...................C=1291.5496650148827, solver=sag; total time=  10.7s\n",
      "[CV] END ...................C=1291.5496650148827, solver=sag; total time=  10.8s\n",
      "[CV] END ...................C=1291.5496650148827, solver=sag; total time=  10.4s\n",
      "[CV] END ...................C=1291.5496650148827, solver=sag; total time=  10.7s\n",
      "[CV] END ..................C=1291.5496650148827, solver=saga; total time=  18.3s\n",
      "[CV] END ..................C=1291.5496650148827, solver=saga; total time=  17.6s\n",
      "[CV] END ..................C=1291.5496650148827, solver=saga; total time=  18.4s\n",
      "[CV] END ..................C=1291.5496650148827, solver=saga; total time=  17.3s\n",
      "[CV] END ..................C=1291.5496650148827, solver=saga; total time=  17.7s\n",
      "[CV] END .................C=1291.5496650148827, solver=lbfgs; total time=   6.6s\n",
      "[CV] END .................C=1291.5496650148827, solver=lbfgs; total time=   6.1s\n",
      "[CV] END .................C=1291.5496650148827, solver=lbfgs; total time=   6.9s\n",
      "[CV] END .................C=1291.5496650148827, solver=lbfgs; total time=   9.3s\n",
      "[CV] END .................C=1291.5496650148827, solver=lbfgs; total time=   8.7s\n",
      "[CV] END ........................C=10000.0, solver=newton-cg; total time=   9.0s\n",
      "[CV] END ........................C=10000.0, solver=newton-cg; total time=   4.5s\n",
      "[CV] END ........................C=10000.0, solver=newton-cg; total time=   6.3s\n",
      "[CV] END ........................C=10000.0, solver=newton-cg; total time=   4.3s\n",
      "[CV] END ........................C=10000.0, solver=newton-cg; total time=   5.2s\n",
      "[CV] END ..............................C=10000.0, solver=sag; total time=  11.0s\n",
      "[CV] END ..............................C=10000.0, solver=sag; total time=  10.8s\n",
      "[CV] END ..............................C=10000.0, solver=sag; total time=  10.8s\n",
      "[CV] END ..............................C=10000.0, solver=sag; total time=  10.4s\n",
      "[CV] END ..............................C=10000.0, solver=sag; total time=  12.0s\n",
      "[CV] END .............................C=10000.0, solver=saga; total time=  18.9s\n",
      "[CV] END .............................C=10000.0, solver=saga; total time=  18.5s\n",
      "[CV] END .............................C=10000.0, solver=saga; total time=  17.9s\n",
      "[CV] END .............................C=10000.0, solver=saga; total time=  17.7s\n",
      "[CV] END .............................C=10000.0, solver=saga; total time=  17.7s\n",
      "[CV] END ............................C=10000.0, solver=lbfgs; total time=   6.6s\n",
      "[CV] END ............................C=10000.0, solver=lbfgs; total time=   6.7s\n",
      "[CV] END ............................C=10000.0, solver=lbfgs; total time=   8.2s\n",
      "[CV] END ............................C=10000.0, solver=lbfgs; total time=   8.2s\n",
      "[CV] END ............................C=10000.0, solver=lbfgs; total time=   4.7s\n"
     ]
    }
   ],
   "source": [
    "random_default_seed = 0\n",
    "l2_logistic = LogisticRegression(penalty='l2', max_iter=10000)\n",
    "param_grid = {\"C\":np.logspace(-4, 4, num = 10),\n",
    "                 'solver': ['newton-cg', 'sag', 'saga', 'lbfgs']}\n",
    "np.random.seed(random_default_seed)\n",
    "cross_validation_model = GridSearchCV(l2_logistic, param_grid, verbose=2)\n",
    "\n",
    "start_timer = time.time()\n",
    "cross_validation_model.fit(X_train, y_train)\n",
    "end_timer = time.time()\n",
    "\n",
    "best_model = cross_validation_model.best_estimator_"
   ]
  },
  {
   "cell_type": "code",
   "execution_count": 217,
   "id": "c593afbc",
   "metadata": {},
   "outputs": [
    {
     "name": "stdout",
     "output_type": "stream",
     "text": [
      "Total Time Spent for CV process: 1483.84 seconds\n",
      "Optimal parameters: {'C': 21.54434690031882, 'solver': 'sag'}\n"
     ]
    }
   ],
   "source": [
    "best_params = cross_validation_model.best_params_\n",
    "print(\"Total Time Spent for CV process: \" + str(round(end_timer - start_timer, 2)) + \" seconds\")\n",
    "print(\"Optimal parameters:\", best_params)"
   ]
  },
  {
   "cell_type": "code",
   "execution_count": 218,
   "id": "232c3cca",
   "metadata": {},
   "outputs": [
    {
     "name": "stdout",
     "output_type": "stream",
     "text": [
      "*** Accuracy-maximizing threshold was: 0.4291621429863072 ***\n",
      "\n",
      "================Classification Report=================\n",
      "              precision    recall  f1-score   support\n",
      "\n",
      "  No default     0.8671    0.8344    0.8504      1087\n",
      "     Default     0.8643    0.8918    0.8778      1285\n",
      "\n",
      "    accuracy                         0.8655      2372\n",
      "   macro avg     0.8657    0.8631    0.8641      2372\n",
      "weighted avg     0.8656    0.8655    0.8653      2372\n",
      "\n"
     ]
    }
   ],
   "source": [
    "y_test_pred_probs = best_model.predict_proba(X_test)[:,1]\n",
    "fpr, tpr, thresholds = roc_curve(y_test, y_test_pred_probs)\n",
    "\n",
    "y_train_pred_probs = best_model.predict_proba(X_train)[:,1]\n",
    "fpr_train, tpr_train, thresholds_train = roc_curve(y_train, y_train_pred_probs)\n",
    "\n",
    "true_pos_train = tpr_train*(y_train.sum())\n",
    "true_neg_train = (1 - fpr_train) *(1-y_train).sum()\n",
    "\n",
    "highest_threshold_index = np.argmax(true_pos_train + true_neg_train)\n",
    "highest_threshold = 1 if highest_threshold_index == 0 else thresholds_train[highest_threshold_index]\n",
    "\n",
    "y_pred = (y_test_pred_probs > highest_threshold)\n",
    "\n",
    "# len(y_pred)\n",
    "print(\"*** Accuracy-maximizing threshold was: \" + str(highest_threshold)+\" ***\")\n",
    "print()\n",
    "print(\"================Classification Report=================\")\n",
    "print(classification_report(y_test, y_pred, target_names =['No default', 'Default'], digits = 4))"
   ]
  },
  {
   "cell_type": "code",
   "execution_count": 219,
   "id": "9de52513",
   "metadata": {},
   "outputs": [
    {
     "data": {
      "text/plain": [
       "Text(0.5, 0, 'False Positive Rate')"
      ]
     },
     "execution_count": 219,
     "metadata": {},
     "output_type": "execute_result"
    },
    {
     "data": {
      "image/png": "[encoded data removed]",
      "text/plain": [
       "<Figure size 720x432 with 1 Axes>"
      ]
     },
     "metadata": {
      "needs_background": "light"
     },
     "output_type": "display_data"
    }
   ],
   "source": [
    "plt.figure(figsize = (10, 6))\n",
    "plt.title(\"ROC Curve (AUC = %0.2f)\"% roc_auc_score(y_test, y_test_pred_probs))\n",
    "plt.plot(fpr, tpr, 'b')\n",
    "plt.plot([0,1],[0,1],'r--')\n",
    "plt.xlim([0,1]); plt.ylim([0,1])\n",
    "plt.ylabel('True Positive Rate')\n",
    "plt.xlabel('False Positive Rate')"
   ]
  },
  {
   "cell_type": "code",
   "execution_count": 220,
   "id": "919374ca",
   "metadata": {},
   "outputs": [
    {
     "data": {
      "text/plain": [
       "<matplotlib.legend.Legend at 0x7fb2106ef2e0>"
      ]
     },
     "execution_count": 220,
     "metadata": {},
     "output_type": "execute_result"
    },
    {
     "data": {
      "image/png": "[encoded data removed]",
      "text/plain": [
       "<Figure size 720x432 with 1 Axes>"
      ]
     },
     "metadata": {
      "needs_background": "light"
     },
     "output_type": "display_data"
    }
   ],
   "source": [
    "plt.figure(figsize = (10, 6))\n",
    "fp_0, mpv_0 = calibration_curve(y_test, y_test_pred_probs, n_bins = 10)\n",
    "plt.plot([0,1], [0,1], 'k:', label='Perfectly calibrated')\n",
    "plt.plot(mpv_0, fp_0, 's-')\n",
    "plt.ylabel('Fraction of Positives')\n",
    "plt.xlim([0,1]); plt.ylim([0,1])\n",
    "plt.legend(loc ='upper left')"
   ]
  },
  {
   "cell_type": "code",
   "execution_count": 221,
   "id": "42d2b33c",
   "metadata": {},
   "outputs": [
    {
     "name": "stdout",
     "output_type": "stream",
     "text": [
      "***********************************************************************************\n",
      "Test Accuracy Score using L2 Logistic Regression: 0.8600337268128162\n",
      "***********************************************************************************\n"
     ]
    }
   ],
   "source": [
    "y_test_pred = best_model.predict(X_test)\n",
    "print('***********************************************************************************')\n",
    "print('Test Accuracy Score using L2 Logistic Regression:', accuracy_score(y_test_pred, y_test))\n",
    "print('***********************************************************************************')"
   ]
  },
  {
   "cell_type": "markdown",
   "id": "6cfc4e3d",
   "metadata": {},
   "source": [
    "### Model 2: SVM Model\n",
    "In this model, the hyperparaters we tuned include:\n",
    "1. penalty strength paramtera C\n",
    "2. different kernel functions\n",
    "3. the gamma parameter which decides the curvature of rbf methods for the decision boundary"
   ]
  },
  {
   "cell_type": "code",
   "execution_count": 209,
   "id": "238d61de",
   "metadata": {
    "scrolled": false
   },
   "outputs": [
    {
     "name": "stdout",
     "output_type": "stream",
     "text": [
      "Fitting 5 folds for each of 32 candidates, totalling 160 fits\n",
      "[CV] END .........................C=0.1, gamma=1, kernel=rbf; total time= 1.1min\n",
      "[CV] END .........................C=0.1, gamma=1, kernel=rbf; total time= 1.2min\n",
      "[CV] END .........................C=0.1, gamma=1, kernel=rbf; total time= 1.1min\n",
      "[CV] END .........................C=0.1, gamma=1, kernel=rbf; total time= 1.2min\n",
      "[CV] END .........................C=0.1, gamma=1, kernel=rbf; total time= 1.2min\n",
      "[CV] END .....................C=0.1, gamma=1, kernel=sigmoid; total time=  51.5s\n",
      "[CV] END .....................C=0.1, gamma=1, kernel=sigmoid; total time=  54.1s\n",
      "[CV] END .....................C=0.1, gamma=1, kernel=sigmoid; total time=  52.8s\n",
      "[CV] END .....................C=0.1, gamma=1, kernel=sigmoid; total time=  51.7s\n",
      "[CV] END .....................C=0.1, gamma=1, kernel=sigmoid; total time=  51.9s\n",
      "[CV] END .......................C=0.1, gamma=0.1, kernel=rbf; total time= 1.1min\n",
      "[CV] END .......................C=0.1, gamma=0.1, kernel=rbf; total time= 1.1min\n",
      "[CV] END .......................C=0.1, gamma=0.1, kernel=rbf; total time= 1.1min\n",
      "[CV] END .......................C=0.1, gamma=0.1, kernel=rbf; total time= 1.1min\n",
      "[CV] END .......................C=0.1, gamma=0.1, kernel=rbf; total time= 1.1min\n",
      "[CV] END ...................C=0.1, gamma=0.1, kernel=sigmoid; total time=  51.4s\n",
      "[CV] END ...................C=0.1, gamma=0.1, kernel=sigmoid; total time=  51.7s\n",
      "[CV] END ...................C=0.1, gamma=0.1, kernel=sigmoid; total time=  51.8s\n",
      "[CV] END ...................C=0.1, gamma=0.1, kernel=sigmoid; total time=  51.3s\n",
      "[CV] END ...................C=0.1, gamma=0.1, kernel=sigmoid; total time=  51.9s\n",
      "[CV] END ......................C=0.1, gamma=0.01, kernel=rbf; total time= 1.1min\n",
      "[CV] END ......................C=0.1, gamma=0.01, kernel=rbf; total time= 1.1min\n",
      "[CV] END ......................C=0.1, gamma=0.01, kernel=rbf; total time= 1.1min\n",
      "[CV] END ......................C=0.1, gamma=0.01, kernel=rbf; total time= 1.1min\n",
      "[CV] END ......................C=0.1, gamma=0.01, kernel=rbf; total time= 1.1min\n",
      "[CV] END ..................C=0.1, gamma=0.01, kernel=sigmoid; total time=  51.3s\n",
      "[CV] END ..................C=0.1, gamma=0.01, kernel=sigmoid; total time=  52.3s\n",
      "[CV] END ..................C=0.1, gamma=0.01, kernel=sigmoid; total time=  51.9s\n",
      "[CV] END ..................C=0.1, gamma=0.01, kernel=sigmoid; total time=  51.9s\n",
      "[CV] END ..................C=0.1, gamma=0.01, kernel=sigmoid; total time=  51.8s\n",
      "[CV] END .....................C=0.1, gamma=0.001, kernel=rbf; total time=  59.5s\n",
      "[CV] END .....................C=0.1, gamma=0.001, kernel=rbf; total time= 1.0min\n",
      "[CV] END .....................C=0.1, gamma=0.001, kernel=rbf; total time= 1.0min\n",
      "[CV] END .....................C=0.1, gamma=0.001, kernel=rbf; total time= 1.0min\n",
      "[CV] END .....................C=0.1, gamma=0.001, kernel=rbf; total time= 1.0min\n",
      "[CV] END .................C=0.1, gamma=0.001, kernel=sigmoid; total time=  55.1s\n",
      "[CV] END .................C=0.1, gamma=0.001, kernel=sigmoid; total time=  54.9s\n",
      "[CV] END .................C=0.1, gamma=0.001, kernel=sigmoid; total time=  58.9s\n",
      "[CV] END .................C=0.1, gamma=0.001, kernel=sigmoid; total time=  57.2s\n",
      "[CV] END .................C=0.1, gamma=0.001, kernel=sigmoid; total time=  57.5s\n",
      "[CV] END ...........................C=1, gamma=1, kernel=rbf; total time= 1.2min\n",
      "[CV] END ...........................C=1, gamma=1, kernel=rbf; total time= 1.1min\n",
      "[CV] END ...........................C=1, gamma=1, kernel=rbf; total time= 1.2min\n",
      "[CV] END ...........................C=1, gamma=1, kernel=rbf; total time= 1.2min\n",
      "[CV] END ...........................C=1, gamma=1, kernel=rbf; total time= 1.2min\n",
      "[CV] END .......................C=1, gamma=1, kernel=sigmoid; total time=  51.6s\n",
      "[CV] END .......................C=1, gamma=1, kernel=sigmoid; total time=  51.4s\n",
      "[CV] END .......................C=1, gamma=1, kernel=sigmoid; total time=  52.5s\n",
      "[CV] END .......................C=1, gamma=1, kernel=sigmoid; total time=  51.6s\n",
      "[CV] END .......................C=1, gamma=1, kernel=sigmoid; total time=  51.9s\n",
      "[CV] END .........................C=1, gamma=0.1, kernel=rbf; total time= 1.2min\n",
      "[CV] END .........................C=1, gamma=0.1, kernel=rbf; total time= 1.2min\n",
      "[CV] END .........................C=1, gamma=0.1, kernel=rbf; total time= 1.2min\n",
      "[CV] END .........................C=1, gamma=0.1, kernel=rbf; total time= 1.2min\n",
      "[CV] END .........................C=1, gamma=0.1, kernel=rbf; total time= 1.2min\n",
      "[CV] END .....................C=1, gamma=0.1, kernel=sigmoid; total time=  51.5s\n",
      "[CV] END .....................C=1, gamma=0.1, kernel=sigmoid; total time=  51.5s\n",
      "[CV] END .....................C=1, gamma=0.1, kernel=sigmoid; total time=  51.3s\n",
      "[CV] END .....................C=1, gamma=0.1, kernel=sigmoid; total time=  51.3s\n",
      "[CV] END .....................C=1, gamma=0.1, kernel=sigmoid; total time=  56.4s\n",
      "[CV] END ........................C=1, gamma=0.01, kernel=rbf; total time= 1.1min\n",
      "[CV] END ........................C=1, gamma=0.01, kernel=rbf; total time= 1.2min\n",
      "[CV] END ........................C=1, gamma=0.01, kernel=rbf; total time= 1.1min\n",
      "[CV] END ........................C=1, gamma=0.01, kernel=rbf; total time= 1.1min\n",
      "[CV] END ........................C=1, gamma=0.01, kernel=rbf; total time= 1.1min\n",
      "[CV] END ....................C=1, gamma=0.01, kernel=sigmoid; total time=  51.9s\n",
      "[CV] END ....................C=1, gamma=0.01, kernel=sigmoid; total time=  52.5s\n",
      "[CV] END ....................C=1, gamma=0.01, kernel=sigmoid; total time=  52.3s\n",
      "[CV] END ....................C=1, gamma=0.01, kernel=sigmoid; total time=  53.1s\n",
      "[CV] END ....................C=1, gamma=0.01, kernel=sigmoid; total time=  52.3s\n",
      "[CV] END .......................C=1, gamma=0.001, kernel=rbf; total time=  54.2s\n",
      "[CV] END .......................C=1, gamma=0.001, kernel=rbf; total time=  53.9s\n",
      "[CV] END .......................C=1, gamma=0.001, kernel=rbf; total time=  54.1s\n",
      "[CV] END .......................C=1, gamma=0.001, kernel=rbf; total time=  54.2s\n",
      "[CV] END .......................C=1, gamma=0.001, kernel=rbf; total time=  54.9s\n",
      "[CV] END ...................C=1, gamma=0.001, kernel=sigmoid; total time= 1.0min\n",
      "[CV] END ...................C=1, gamma=0.001, kernel=sigmoid; total time= 1.0min\n",
      "[CV] END ...................C=1, gamma=0.001, kernel=sigmoid; total time=  55.1s\n",
      "[CV] END ...................C=1, gamma=0.001, kernel=sigmoid; total time=  52.5s\n",
      "[CV] END ...................C=1, gamma=0.001, kernel=sigmoid; total time=  55.3s\n",
      "[CV] END ..........................C=10, gamma=1, kernel=rbf; total time= 1.6min\n",
      "[CV] END ..........................C=10, gamma=1, kernel=rbf; total time= 1.6min\n",
      "[CV] END ..........................C=10, gamma=1, kernel=rbf; total time= 1.7min\n",
      "[CV] END ..........................C=10, gamma=1, kernel=rbf; total time= 1.6min\n",
      "[CV] END ..........................C=10, gamma=1, kernel=rbf; total time= 1.6min\n",
      "[CV] END ......................C=10, gamma=1, kernel=sigmoid; total time= 1.0min\n",
      "[CV] END ......................C=10, gamma=1, kernel=sigmoid; total time=  57.6s\n",
      "[CV] END ......................C=10, gamma=1, kernel=sigmoid; total time=  56.1s\n",
      "[CV] END ......................C=10, gamma=1, kernel=sigmoid; total time=  59.4s\n",
      "[CV] END ......................C=10, gamma=1, kernel=sigmoid; total time=  58.4s\n",
      "[CV] END ........................C=10, gamma=0.1, kernel=rbf; total time= 1.5min\n",
      "[CV] END ........................C=10, gamma=0.1, kernel=rbf; total time= 1.5min\n",
      "[CV] END ........................C=10, gamma=0.1, kernel=rbf; total time= 1.6min\n",
      "[CV] END ........................C=10, gamma=0.1, kernel=rbf; total time= 1.5min\n",
      "[CV] END ........................C=10, gamma=0.1, kernel=rbf; total time= 1.5min\n",
      "[CV] END ....................C=10, gamma=0.1, kernel=sigmoid; total time=  59.5s\n",
      "[CV] END ....................C=10, gamma=0.1, kernel=sigmoid; total time=  59.1s\n",
      "[CV] END ....................C=10, gamma=0.1, kernel=sigmoid; total time=  57.5s\n",
      "[CV] END ....................C=10, gamma=0.1, kernel=sigmoid; total time=  55.0s\n",
      "[CV] END ....................C=10, gamma=0.1, kernel=sigmoid; total time=  55.9s\n",
      "[CV] END .......................C=10, gamma=0.01, kernel=rbf; total time= 1.2min\n"
     ]
    },
    {
     "name": "stdout",
     "output_type": "stream",
     "text": [
      "[CV] END .......................C=10, gamma=0.01, kernel=rbf; total time= 1.3min\n",
      "[CV] END .......................C=10, gamma=0.01, kernel=rbf; total time= 1.3min\n",
      "[CV] END .......................C=10, gamma=0.01, kernel=rbf; total time= 1.4min\n",
      "[CV] END .......................C=10, gamma=0.01, kernel=rbf; total time= 1.2min\n",
      "[CV] END ...................C=10, gamma=0.01, kernel=sigmoid; total time=  58.7s\n",
      "[CV] END ...................C=10, gamma=0.01, kernel=sigmoid; total time=  58.9s\n",
      "[CV] END ...................C=10, gamma=0.01, kernel=sigmoid; total time= 1.0min\n",
      "[CV] END ...................C=10, gamma=0.01, kernel=sigmoid; total time= 1.0min\n",
      "[CV] END ...................C=10, gamma=0.01, kernel=sigmoid; total time=  57.7s\n",
      "[CV] END ......................C=10, gamma=0.001, kernel=rbf; total time=  48.8s\n",
      "[CV] END ......................C=10, gamma=0.001, kernel=rbf; total time=  53.8s\n",
      "[CV] END ......................C=10, gamma=0.001, kernel=rbf; total time=  48.9s\n",
      "[CV] END ......................C=10, gamma=0.001, kernel=rbf; total time=  50.7s\n",
      "[CV] END ......................C=10, gamma=0.001, kernel=rbf; total time=  51.2s\n",
      "[CV] END ..................C=10, gamma=0.001, kernel=sigmoid; total time=  56.1s\n",
      "[CV] END ..................C=10, gamma=0.001, kernel=sigmoid; total time= 1.1min\n",
      "[CV] END ..................C=10, gamma=0.001, kernel=sigmoid; total time= 1.0min\n",
      "[CV] END ..................C=10, gamma=0.001, kernel=sigmoid; total time=  55.9s\n",
      "[CV] END ..................C=10, gamma=0.001, kernel=sigmoid; total time= 1.1min\n",
      "[CV] END .........................C=100, gamma=1, kernel=rbf; total time= 1.6min\n",
      "[CV] END .........................C=100, gamma=1, kernel=rbf; total time= 1.6min\n",
      "[CV] END .........................C=100, gamma=1, kernel=rbf; total time= 1.6min\n",
      "[CV] END .........................C=100, gamma=1, kernel=rbf; total time= 1.6min\n",
      "[CV] END .........................C=100, gamma=1, kernel=rbf; total time= 1.6min\n",
      "[CV] END .....................C=100, gamma=1, kernel=sigmoid; total time=  55.4s\n",
      "[CV] END .....................C=100, gamma=1, kernel=sigmoid; total time= 1.0min\n",
      "[CV] END .....................C=100, gamma=1, kernel=sigmoid; total time=  58.1s\n",
      "[CV] END .....................C=100, gamma=1, kernel=sigmoid; total time= 1.1min\n",
      "[CV] END .....................C=100, gamma=1, kernel=sigmoid; total time=  57.1s\n",
      "[CV] END .......................C=100, gamma=0.1, kernel=rbf; total time= 1.5min\n",
      "[CV] END .......................C=100, gamma=0.1, kernel=rbf; total time= 1.4min\n",
      "[CV] END .......................C=100, gamma=0.1, kernel=rbf; total time= 1.5min\n",
      "[CV] END .......................C=100, gamma=0.1, kernel=rbf; total time= 1.5min\n",
      "[CV] END .......................C=100, gamma=0.1, kernel=rbf; total time= 1.5min\n",
      "[CV] END ...................C=100, gamma=0.1, kernel=sigmoid; total time=  52.7s\n",
      "[CV] END ...................C=100, gamma=0.1, kernel=sigmoid; total time=  52.6s\n",
      "[CV] END ...................C=100, gamma=0.1, kernel=sigmoid; total time=  52.8s\n",
      "[CV] END ...................C=100, gamma=0.1, kernel=sigmoid; total time=  59.0s\n",
      "[CV] END ...................C=100, gamma=0.1, kernel=sigmoid; total time=  58.5s\n",
      "[CV] END ......................C=100, gamma=0.01, kernel=rbf; total time= 1.3min\n",
      "[CV] END ......................C=100, gamma=0.01, kernel=rbf; total time= 1.3min\n",
      "[CV] END ......................C=100, gamma=0.01, kernel=rbf; total time= 1.2min\n",
      "[CV] END ......................C=100, gamma=0.01, kernel=rbf; total time= 1.2min\n",
      "[CV] END ......................C=100, gamma=0.01, kernel=rbf; total time= 1.2min\n",
      "[CV] END ..................C=100, gamma=0.01, kernel=sigmoid; total time=  52.0s\n",
      "[CV] END ..................C=100, gamma=0.01, kernel=sigmoid; total time=  52.6s\n",
      "[CV] END ..................C=100, gamma=0.01, kernel=sigmoid; total time=  55.8s\n",
      "[CV] END ..................C=100, gamma=0.01, kernel=sigmoid; total time=  52.2s\n",
      "[CV] END ..................C=100, gamma=0.01, kernel=sigmoid; total time=  52.2s\n",
      "[CV] END .....................C=100, gamma=0.001, kernel=rbf; total time=  51.7s\n",
      "[CV] END .....................C=100, gamma=0.001, kernel=rbf; total time=  52.9s\n",
      "[CV] END .....................C=100, gamma=0.001, kernel=rbf; total time=  51.8s\n",
      "[CV] END .....................C=100, gamma=0.001, kernel=rbf; total time=  57.1s\n",
      "[CV] END .....................C=100, gamma=0.001, kernel=rbf; total time=  54.9s\n",
      "[CV] END .................C=100, gamma=0.001, kernel=sigmoid; total time=  52.7s\n",
      "[CV] END .................C=100, gamma=0.001, kernel=sigmoid; total time=  50.2s\n",
      "[CV] END .................C=100, gamma=0.001, kernel=sigmoid; total time=  43.4s\n",
      "[CV] END .................C=100, gamma=0.001, kernel=sigmoid; total time=  48.9s\n",
      "[CV] END .................C=100, gamma=0.001, kernel=sigmoid; total time=  47.8s\n"
     ]
    }
   ],
   "source": [
    "svm_model = SVC(probability=True)\n",
    "param_grid = {'C': [0.1,1, 10, 100], 'gamma': [1,0.1,0.01,0.001],'kernel': ['rbf', 'sigmoid']}\n",
    "cross_validation_model = GridSearchCV(svm_model,param_grid,refit=True,verbose=2)\n",
    "\n",
    "start_timer = time.time()\n",
    "cross_validation_model.fit(X_train,y_train)\n",
    "end_timer = time.time()\n",
    "best_model = cross_validation_model.best_estimator_"
   ]
  },
  {
   "cell_type": "code",
   "execution_count": 211,
   "id": "866a7757",
   "metadata": {},
   "outputs": [
    {
     "name": "stdout",
     "output_type": "stream",
     "text": [
      "Total Time Spent for CV process: 10278.02 seconds\n",
      "Optimal parameters: {'C': 100, 'gamma': 0.001, 'kernel': 'rbf'}\n"
     ]
    }
   ],
   "source": [
    "best_params = cross_validation_model.best_params_\n",
    "print(\"Total Time Spent for CV process: \" + str(round(end_timer - start_timer, 2)) + \" seconds\")\n",
    "print(\"Optimal parameters:\", best_params)"
   ]
  },
  {
   "cell_type": "code",
   "execution_count": 212,
   "id": "8ecfa1eb",
   "metadata": {},
   "outputs": [
    {
     "name": "stdout",
     "output_type": "stream",
     "text": [
      "*** Accuracy-maximizing threshold was: 0.476860966267463 ***\n",
      "\n",
      "================Classification Report=================\n",
      "              precision    recall  f1-score   support\n",
      "\n",
      "  No default     0.7588    0.7351    0.7467      1087\n",
      "     Default     0.7817    0.8023    0.7919      1285\n",
      "\n",
      "    accuracy                         0.7715      2372\n",
      "   macro avg     0.7702    0.7687    0.7693      2372\n",
      "weighted avg     0.7712    0.7715    0.7712      2372\n",
      "\n"
     ]
    }
   ],
   "source": [
    "y_test_pred_probs = best_model.predict_proba(X_test)[:,1]\n",
    "fpr, tpr, thresholds = roc_curve(y_test, y_test_pred_probs)\n",
    "\n",
    "y_train_pred_probs = best_model.predict_proba(X_train)[:,1]\n",
    "fpr_train, tpr_train, thresholds_train = roc_curve(y_train, y_train_pred_probs)\n",
    "\n",
    "true_pos_train = tpr_train*(y_train.sum())\n",
    "true_neg_train = (1 - fpr_train) *(1-y_train).sum()\n",
    "\n",
    "highest_threshold_index = np.argmax(true_pos_train + true_neg_train)\n",
    "highest_threshold = 1 if highest_threshold_index == 0 else thresholds_train[highest_threshold_index]\n",
    "\n",
    "y_pred = (y_test_pred_probs > highest_threshold)\n",
    "\n",
    "# len(y_pred)\n",
    "print(\"*** Accuracy-maximizing threshold was: \" + str(highest_threshold)+\" ***\")\n",
    "print()\n",
    "print(\"================Classification Report=================\")\n",
    "print(classification_report(y_test, y_pred, target_names =['No default', 'Default'], digits = 4))"
   ]
  },
  {
   "cell_type": "code",
   "execution_count": 213,
   "id": "4ca0f3c3",
   "metadata": {
    "scrolled": false
   },
   "outputs": [
    {
     "data": {
      "text/plain": [
       "Text(0.5, 0, 'False Positive Rate')"
      ]
     },
     "execution_count": 213,
     "metadata": {},
     "output_type": "execute_result"
    },
    {
     "data": {
      "image/png": "[encoded data removed]",
      "text/plain": [
       "<Figure size 720x432 with 1 Axes>"
      ]
     },
     "metadata": {
      "needs_background": "light"
     },
     "output_type": "display_data"
    }
   ],
   "source": [
    "plt.figure(figsize = (10, 6))\n",
    "plt.title(\"ROC Curve (AUC = %0.2f)\"% roc_auc_score(y_test, y_test_pred_probs))\n",
    "plt.plot(fpr, tpr, 'b')\n",
    "plt.plot([0,1],[0,1],'r--')\n",
    "plt.xlim([0,1]); plt.ylim([0,1])\n",
    "plt.ylabel('True Positive Rate')\n",
    "plt.xlabel('False Positive Rate')"
   ]
  },
  {
   "cell_type": "code",
   "execution_count": 214,
   "id": "78c1eab8",
   "metadata": {
    "scrolled": false
   },
   "outputs": [
    {
     "data": {
      "text/plain": [
       "<matplotlib.legend.Legend at 0x7fb21c93eee0>"
      ]
     },
     "execution_count": 214,
     "metadata": {},
     "output_type": "execute_result"
    },
    {
     "data": {
      "image/png": "[encoded data removed]",
      "text/plain": [
       "<Figure size 720x432 with 1 Axes>"
      ]
     },
     "metadata": {
      "needs_background": "light"
     },
     "output_type": "display_data"
    }
   ],
   "source": [
    "plt.figure(figsize = (10, 6))\n",
    "fp_0, mpv_0 = calibration_curve(y_test, y_test_pred_probs, n_bins = 10)\n",
    "plt.plot([0,1], [0,1], 'k:', label='Perfectly calibrated')\n",
    "plt.plot(mpv_0, fp_0, 's-')\n",
    "plt.ylabel('Fraction of Positives')\n",
    "plt.xlim([0,1]); plt.ylim([0,1])\n",
    "plt.legend(loc ='upper left')"
   ]
  },
  {
   "cell_type": "code",
   "execution_count": 215,
   "id": "4f91949a",
   "metadata": {},
   "outputs": [
    {
     "name": "stdout",
     "output_type": "stream",
     "text": [
      "***********************************************************************************\n",
      "Test Accuracy Score using SVM Model: 0.7740303541315345\n",
      "***********************************************************************************\n"
     ]
    }
   ],
   "source": [
    "y_test_pred = best_model.predict(X_test)\n",
    "print('***********************************************************************************')\n",
    "print('Test Accuracy Score using SVM Model:', accuracy_score(y_test_pred, y_test))\n",
    "print('***********************************************************************************')"
   ]
  },
  {
   "cell_type": "markdown",
   "id": "9541a664",
   "metadata": {},
   "source": [
    "### Model 3: Random Forest\n",
    "In this model, the hyperparameters we tuned include:\n",
    "1. *Min_Samples_leaf* which specifies the minimum number of data points we can have for each leaf node\n",
    "2. *n_estimators* which specifies the total number of trees we have in the forest"
   ]
  },
  {
   "cell_type": "code",
   "execution_count": 222,
   "id": "a80d991e",
   "metadata": {
    "scrolled": false
   },
   "outputs": [
    {
     "name": "stdout",
     "output_type": "stream",
     "text": [
      "Fitting 5 folds for each of 30 candidates, totalling 150 fits\n",
      "[CV] END ...............min_samples_leaf=10, n_estimators=60; total time=   0.5s\n",
      "[CV] END ...............min_samples_leaf=10, n_estimators=60; total time=   0.5s\n",
      "[CV] END ...............min_samples_leaf=10, n_estimators=60; total time=   0.5s\n",
      "[CV] END ...............min_samples_leaf=10, n_estimators=60; total time=   0.5s\n",
      "[CV] END ...............min_samples_leaf=10, n_estimators=60; total time=   0.5s\n",
      "[CV] END ...............min_samples_leaf=10, n_estimators=80; total time=   0.6s\n",
      "[CV] END ...............min_samples_leaf=10, n_estimators=80; total time=   0.6s\n",
      "[CV] END ...............min_samples_leaf=10, n_estimators=80; total time=   0.6s\n",
      "[CV] END ...............min_samples_leaf=10, n_estimators=80; total time=   0.6s\n",
      "[CV] END ...............min_samples_leaf=10, n_estimators=80; total time=   0.7s\n",
      "[CV] END ..............min_samples_leaf=10, n_estimators=100; total time=   0.8s\n",
      "[CV] END ..............min_samples_leaf=10, n_estimators=100; total time=   0.8s\n",
      "[CV] END ..............min_samples_leaf=10, n_estimators=100; total time=   0.8s\n",
      "[CV] END ..............min_samples_leaf=10, n_estimators=100; total time=   1.0s\n",
      "[CV] END ..............min_samples_leaf=10, n_estimators=100; total time=   0.9s\n",
      "[CV] END ..............min_samples_leaf=10, n_estimators=120; total time=   0.9s\n",
      "[CV] END ..............min_samples_leaf=10, n_estimators=120; total time=   1.0s\n",
      "[CV] END ..............min_samples_leaf=10, n_estimators=120; total time=   1.0s\n",
      "[CV] END ..............min_samples_leaf=10, n_estimators=120; total time=   1.0s\n",
      "[CV] END ..............min_samples_leaf=10, n_estimators=120; total time=   1.0s\n",
      "[CV] END ..............min_samples_leaf=10, n_estimators=150; total time=   1.4s\n",
      "[CV] END ..............min_samples_leaf=10, n_estimators=150; total time=   1.3s\n",
      "[CV] END ..............min_samples_leaf=10, n_estimators=150; total time=   1.3s\n",
      "[CV] END ..............min_samples_leaf=10, n_estimators=150; total time=   1.4s\n",
      "[CV] END ..............min_samples_leaf=10, n_estimators=150; total time=   1.3s\n",
      "[CV] END ...............min_samples_leaf=20, n_estimators=60; total time=   0.4s\n",
      "[CV] END ...............min_samples_leaf=20, n_estimators=60; total time=   0.4s\n",
      "[CV] END ...............min_samples_leaf=20, n_estimators=60; total time=   0.4s\n",
      "[CV] END ...............min_samples_leaf=20, n_estimators=60; total time=   0.4s\n",
      "[CV] END ...............min_samples_leaf=20, n_estimators=60; total time=   0.4s\n",
      "[CV] END ...............min_samples_leaf=20, n_estimators=80; total time=   0.6s\n",
      "[CV] END ...............min_samples_leaf=20, n_estimators=80; total time=   0.6s\n",
      "[CV] END ...............min_samples_leaf=20, n_estimators=80; total time=   0.6s\n",
      "[CV] END ...............min_samples_leaf=20, n_estimators=80; total time=   0.6s\n",
      "[CV] END ...............min_samples_leaf=20, n_estimators=80; total time=   0.6s\n",
      "[CV] END ..............min_samples_leaf=20, n_estimators=100; total time=   0.7s\n",
      "[CV] END ..............min_samples_leaf=20, n_estimators=100; total time=   0.7s\n",
      "[CV] END ..............min_samples_leaf=20, n_estimators=100; total time=   0.7s\n",
      "[CV] END ..............min_samples_leaf=20, n_estimators=100; total time=   0.8s\n",
      "[CV] END ..............min_samples_leaf=20, n_estimators=100; total time=   0.8s\n",
      "[CV] END ..............min_samples_leaf=20, n_estimators=120; total time=   0.9s\n",
      "[CV] END ..............min_samples_leaf=20, n_estimators=120; total time=   0.9s\n",
      "[CV] END ..............min_samples_leaf=20, n_estimators=120; total time=   1.0s\n",
      "[CV] END ..............min_samples_leaf=20, n_estimators=120; total time=   1.0s\n",
      "[CV] END ..............min_samples_leaf=20, n_estimators=120; total time=   0.8s\n",
      "[CV] END ..............min_samples_leaf=20, n_estimators=150; total time=   1.0s\n",
      "[CV] END ..............min_samples_leaf=20, n_estimators=150; total time=   1.0s\n",
      "[CV] END ..............min_samples_leaf=20, n_estimators=150; total time=   1.0s\n",
      "[CV] END ..............min_samples_leaf=20, n_estimators=150; total time=   1.0s\n",
      "[CV] END ..............min_samples_leaf=20, n_estimators=150; total time=   1.0s\n",
      "[CV] END ...............min_samples_leaf=30, n_estimators=60; total time=   0.4s\n",
      "[CV] END ...............min_samples_leaf=30, n_estimators=60; total time=   0.4s\n",
      "[CV] END ...............min_samples_leaf=30, n_estimators=60; total time=   0.4s\n",
      "[CV] END ...............min_samples_leaf=30, n_estimators=60; total time=   0.4s\n",
      "[CV] END ...............min_samples_leaf=30, n_estimators=60; total time=   0.4s\n",
      "[CV] END ...............min_samples_leaf=30, n_estimators=80; total time=   0.5s\n",
      "[CV] END ...............min_samples_leaf=30, n_estimators=80; total time=   0.5s\n",
      "[CV] END ...............min_samples_leaf=30, n_estimators=80; total time=   0.5s\n",
      "[CV] END ...............min_samples_leaf=30, n_estimators=80; total time=   0.5s\n",
      "[CV] END ...............min_samples_leaf=30, n_estimators=80; total time=   0.5s\n",
      "[CV] END ..............min_samples_leaf=30, n_estimators=100; total time=   0.6s\n",
      "[CV] END ..............min_samples_leaf=30, n_estimators=100; total time=   0.6s\n",
      "[CV] END ..............min_samples_leaf=30, n_estimators=100; total time=   0.6s\n",
      "[CV] END ..............min_samples_leaf=30, n_estimators=100; total time=   0.6s\n",
      "[CV] END ..............min_samples_leaf=30, n_estimators=100; total time=   0.6s\n",
      "[CV] END ..............min_samples_leaf=30, n_estimators=120; total time=   0.7s\n",
      "[CV] END ..............min_samples_leaf=30, n_estimators=120; total time=   0.7s\n",
      "[CV] END ..............min_samples_leaf=30, n_estimators=120; total time=   0.7s\n",
      "[CV] END ..............min_samples_leaf=30, n_estimators=120; total time=   0.7s\n",
      "[CV] END ..............min_samples_leaf=30, n_estimators=120; total time=   0.7s\n",
      "[CV] END ..............min_samples_leaf=30, n_estimators=150; total time=   0.9s\n",
      "[CV] END ..............min_samples_leaf=30, n_estimators=150; total time=   0.9s\n",
      "[CV] END ..............min_samples_leaf=30, n_estimators=150; total time=   0.9s\n",
      "[CV] END ..............min_samples_leaf=30, n_estimators=150; total time=   0.9s\n",
      "[CV] END ..............min_samples_leaf=30, n_estimators=150; total time=   0.9s\n",
      "[CV] END ...............min_samples_leaf=40, n_estimators=60; total time=   0.3s\n",
      "[CV] END ...............min_samples_leaf=40, n_estimators=60; total time=   0.3s\n",
      "[CV] END ...............min_samples_leaf=40, n_estimators=60; total time=   0.3s\n",
      "[CV] END ...............min_samples_leaf=40, n_estimators=60; total time=   0.3s\n",
      "[CV] END ...............min_samples_leaf=40, n_estimators=60; total time=   0.3s\n",
      "[CV] END ...............min_samples_leaf=40, n_estimators=80; total time=   0.4s\n",
      "[CV] END ...............min_samples_leaf=40, n_estimators=80; total time=   0.4s\n",
      "[CV] END ...............min_samples_leaf=40, n_estimators=80; total time=   0.4s\n",
      "[CV] END ...............min_samples_leaf=40, n_estimators=80; total time=   0.5s\n",
      "[CV] END ...............min_samples_leaf=40, n_estimators=80; total time=   0.5s\n",
      "[CV] END ..............min_samples_leaf=40, n_estimators=100; total time=   0.5s\n",
      "[CV] END ..............min_samples_leaf=40, n_estimators=100; total time=   0.5s\n",
      "[CV] END ..............min_samples_leaf=40, n_estimators=100; total time=   0.5s\n",
      "[CV] END ..............min_samples_leaf=40, n_estimators=100; total time=   0.6s\n",
      "[CV] END ..............min_samples_leaf=40, n_estimators=100; total time=   0.5s\n",
      "[CV] END ..............min_samples_leaf=40, n_estimators=120; total time=   0.7s\n",
      "[CV] END ..............min_samples_leaf=40, n_estimators=120; total time=   0.6s\n",
      "[CV] END ..............min_samples_leaf=40, n_estimators=120; total time=   0.6s\n",
      "[CV] END ..............min_samples_leaf=40, n_estimators=120; total time=   0.6s\n",
      "[CV] END ..............min_samples_leaf=40, n_estimators=120; total time=   0.7s\n",
      "[CV] END ..............min_samples_leaf=40, n_estimators=150; total time=   0.8s\n",
      "[CV] END ..............min_samples_leaf=40, n_estimators=150; total time=   0.8s\n",
      "[CV] END ..............min_samples_leaf=40, n_estimators=150; total time=   0.8s\n",
      "[CV] END ..............min_samples_leaf=40, n_estimators=150; total time=   0.7s\n",
      "[CV] END ..............min_samples_leaf=40, n_estimators=150; total time=   0.7s\n",
      "[CV] END ...............min_samples_leaf=50, n_estimators=60; total time=   0.3s\n"
     ]
    },
    {
     "name": "stdout",
     "output_type": "stream",
     "text": [
      "[CV] END ...............min_samples_leaf=50, n_estimators=60; total time=   0.3s\n",
      "[CV] END ...............min_samples_leaf=50, n_estimators=60; total time=   0.3s\n",
      "[CV] END ...............min_samples_leaf=50, n_estimators=60; total time=   0.3s\n",
      "[CV] END ...............min_samples_leaf=50, n_estimators=60; total time=   0.3s\n",
      "[CV] END ...............min_samples_leaf=50, n_estimators=80; total time=   0.4s\n",
      "[CV] END ...............min_samples_leaf=50, n_estimators=80; total time=   0.4s\n",
      "[CV] END ...............min_samples_leaf=50, n_estimators=80; total time=   0.3s\n",
      "[CV] END ...............min_samples_leaf=50, n_estimators=80; total time=   0.4s\n",
      "[CV] END ...............min_samples_leaf=50, n_estimators=80; total time=   0.4s\n",
      "[CV] END ..............min_samples_leaf=50, n_estimators=100; total time=   0.4s\n",
      "[CV] END ..............min_samples_leaf=50, n_estimators=100; total time=   0.4s\n",
      "[CV] END ..............min_samples_leaf=50, n_estimators=100; total time=   0.4s\n",
      "[CV] END ..............min_samples_leaf=50, n_estimators=100; total time=   0.4s\n",
      "[CV] END ..............min_samples_leaf=50, n_estimators=100; total time=   0.4s\n",
      "[CV] END ..............min_samples_leaf=50, n_estimators=120; total time=   0.5s\n",
      "[CV] END ..............min_samples_leaf=50, n_estimators=120; total time=   0.6s\n",
      "[CV] END ..............min_samples_leaf=50, n_estimators=120; total time=   0.5s\n",
      "[CV] END ..............min_samples_leaf=50, n_estimators=120; total time=   0.5s\n",
      "[CV] END ..............min_samples_leaf=50, n_estimators=120; total time=   0.5s\n",
      "[CV] END ..............min_samples_leaf=50, n_estimators=150; total time=   0.7s\n",
      "[CV] END ..............min_samples_leaf=50, n_estimators=150; total time=   0.7s\n",
      "[CV] END ..............min_samples_leaf=50, n_estimators=150; total time=   0.8s\n",
      "[CV] END ..............min_samples_leaf=50, n_estimators=150; total time=   0.8s\n",
      "[CV] END ..............min_samples_leaf=50, n_estimators=150; total time=   0.8s\n",
      "[CV] END ...............min_samples_leaf=60, n_estimators=60; total time=   0.4s\n",
      "[CV] END ...............min_samples_leaf=60, n_estimators=60; total time=   0.4s\n",
      "[CV] END ...............min_samples_leaf=60, n_estimators=60; total time=   0.4s\n",
      "[CV] END ...............min_samples_leaf=60, n_estimators=60; total time=   0.4s\n",
      "[CV] END ...............min_samples_leaf=60, n_estimators=60; total time=   0.4s\n",
      "[CV] END ...............min_samples_leaf=60, n_estimators=80; total time=   0.4s\n",
      "[CV] END ...............min_samples_leaf=60, n_estimators=80; total time=   0.5s\n",
      "[CV] END ...............min_samples_leaf=60, n_estimators=80; total time=   0.5s\n",
      "[CV] END ...............min_samples_leaf=60, n_estimators=80; total time=   0.5s\n",
      "[CV] END ...............min_samples_leaf=60, n_estimators=80; total time=   0.5s\n",
      "[CV] END ..............min_samples_leaf=60, n_estimators=100; total time=   0.6s\n",
      "[CV] END ..............min_samples_leaf=60, n_estimators=100; total time=   0.6s\n",
      "[CV] END ..............min_samples_leaf=60, n_estimators=100; total time=   0.5s\n",
      "[CV] END ..............min_samples_leaf=60, n_estimators=100; total time=   0.6s\n",
      "[CV] END ..............min_samples_leaf=60, n_estimators=100; total time=   0.6s\n",
      "[CV] END ..............min_samples_leaf=60, n_estimators=120; total time=   0.6s\n",
      "[CV] END ..............min_samples_leaf=60, n_estimators=120; total time=   0.6s\n",
      "[CV] END ..............min_samples_leaf=60, n_estimators=120; total time=   0.6s\n",
      "[CV] END ..............min_samples_leaf=60, n_estimators=120; total time=   0.6s\n",
      "[CV] END ..............min_samples_leaf=60, n_estimators=120; total time=   0.6s\n",
      "[CV] END ..............min_samples_leaf=60, n_estimators=150; total time=   0.7s\n",
      "[CV] END ..............min_samples_leaf=60, n_estimators=150; total time=   0.8s\n",
      "[CV] END ..............min_samples_leaf=60, n_estimators=150; total time=   0.9s\n",
      "[CV] END ..............min_samples_leaf=60, n_estimators=150; total time=   0.9s\n",
      "[CV] END ..............min_samples_leaf=60, n_estimators=150; total time=   0.9s\n"
     ]
    }
   ],
   "source": [
    "random_forest = RandomForestClassifier()\n",
    "param_grid = {'min_samples_leaf': np.arange(10, 70, step=10),\n",
    "                 'n_estimators': [60,80, 100,120,150]}\n",
    "\n",
    "cross_validation_model = GridSearchCV(random_forest,param_grid,refit=True,verbose=2)\n",
    "\n",
    "start_timer = time.time()\n",
    "cross_validation_model.fit(X_train,y_train)\n",
    "end_timer = time.time()\n",
    "best_model = cross_validation_model.best_estimator_"
   ]
  },
  {
   "cell_type": "code",
   "execution_count": 223,
   "id": "fffdecbf",
   "metadata": {},
   "outputs": [
    {
     "name": "stdout",
     "output_type": "stream",
     "text": [
      "Total Time Spent for CV process: 96.02 seconds\n",
      "Optimal parameters: {'min_samples_leaf': 10, 'n_estimators': 60}\n"
     ]
    }
   ],
   "source": [
    "best_params = cross_validation_model.best_params_\n",
    "print(\"Total Time Spent for CV process: \" + str(round(end_timer - start_timer, 2)) + \" seconds\")\n",
    "print(\"Optimal parameters:\", best_params)"
   ]
  },
  {
   "cell_type": "code",
   "execution_count": 224,
   "id": "8d9617bd",
   "metadata": {},
   "outputs": [
    {
     "name": "stdout",
     "output_type": "stream",
     "text": [
      "*** Accuracy-maximizing threshold was: 0.40704145306719247 ***\n",
      "\n",
      "================Classification Report=================\n",
      "              precision    recall  f1-score   support\n",
      "\n",
      "  No default     0.8716    0.7305    0.7948      1087\n",
      "     Default     0.7995    0.9089    0.8507      1285\n",
      "\n",
      "    accuracy                         0.8272      2372\n",
      "   macro avg     0.8355    0.8197    0.8227      2372\n",
      "weighted avg     0.8325    0.8272    0.8251      2372\n",
      "\n"
     ]
    }
   ],
   "source": [
    "y_test_pred_probs = best_model.predict_proba(X_test)[:,1]\n",
    "fpr, tpr, thresholds = roc_curve(y_test, y_test_pred_probs)\n",
    "\n",
    "y_train_pred_probs = best_model.predict_proba(X_train)[:,1]\n",
    "fpr_train, tpr_train, thresholds_train = roc_curve(y_train, y_train_pred_probs)\n",
    "\n",
    "true_pos_train = tpr_train*(y_train.sum())\n",
    "true_neg_train = (1 - fpr_train) *(1-y_train).sum()\n",
    "\n",
    "highest_threshold_index = np.argmax(true_pos_train + true_neg_train)\n",
    "highest_threshold = 1 if highest_threshold_index == 0 else thresholds_train[highest_threshold_index]\n",
    "\n",
    "y_pred = (y_test_pred_probs > highest_threshold)\n",
    "\n",
    "# len(y_pred)\n",
    "print(\"*** Accuracy-maximizing threshold was: \" + str(highest_threshold)+\" ***\")\n",
    "print()\n",
    "print(\"================Classification Report=================\")\n",
    "print(classification_report(y_test, y_pred, target_names =['No default', 'Default'], digits = 4))"
   ]
  },
  {
   "cell_type": "code",
   "execution_count": 225,
   "id": "7990ecaf",
   "metadata": {},
   "outputs": [
    {
     "data": {
      "text/plain": [
       "Text(0.5, 0, 'False Positive Rate')"
      ]
     },
     "execution_count": 225,
     "metadata": {},
     "output_type": "execute_result"
    },
    {
     "data": {
      "image/png": "[encoded data removed]",
      "text/plain": [
       "<Figure size 720x432 with 1 Axes>"
      ]
     },
     "metadata": {
      "needs_background": "light"
     },
     "output_type": "display_data"
    }
   ],
   "source": [
    "plt.figure(figsize = (10, 6))\n",
    "plt.title(\"ROC Curve (AUC = %0.2f)\"% roc_auc_score(y_test, y_test_pred_probs))\n",
    "plt.plot(fpr, tpr, 'b')\n",
    "plt.plot([0,1],[0,1],'r--')\n",
    "plt.xlim([0,1]); plt.ylim([0,1])\n",
    "plt.ylabel('True Positive Rate')\n",
    "plt.xlabel('False Positive Rate')"
   ]
  },
  {
   "cell_type": "code",
   "execution_count": 226,
   "id": "95818bcd",
   "metadata": {
    "scrolled": false
   },
   "outputs": [
    {
     "data": {
      "text/plain": [
       "<matplotlib.legend.Legend at 0x7fb21c90b490>"
      ]
     },
     "execution_count": 226,
     "metadata": {},
     "output_type": "execute_result"
    },
    {
     "data": {
      "image/png": "[encoded data removed]",
      "text/plain": [
       "<Figure size 720x432 with 1 Axes>"
      ]
     },
     "metadata": {
      "needs_background": "light"
     },
     "output_type": "display_data"
    }
   ],
   "source": [
    "plt.figure(figsize = (10, 6))\n",
    "fp_0, mpv_0 = calibration_curve(y_test, y_test_pred_probs, n_bins = 10)\n",
    "plt.plot([0,1], [0,1], 'k:', label='Perfectly calibrated')\n",
    "plt.plot(mpv_0, fp_0, 's-')\n",
    "plt.ylabel('Fraction of Positives')\n",
    "plt.xlim([0,1]); plt.ylim([0,1])\n",
    "plt.legend(loc ='upper left')"
   ]
  },
  {
   "cell_type": "code",
   "execution_count": 227,
   "id": "a2e2a078",
   "metadata": {},
   "outputs": [
    {
     "name": "stdout",
     "output_type": "stream",
     "text": [
      "***********************************************************************************\n",
      "Test Accuracy Score using Random Forest: 0.8195615514333895\n",
      "***********************************************************************************\n"
     ]
    }
   ],
   "source": [
    "y_test_pred = best_model.predict(X_test)\n",
    "print('***********************************************************************************')\n",
    "print('Test Accuracy Score using Random Forest:', accuracy_score(y_test_pred, y_test))\n",
    "print('***********************************************************************************')"
   ]
  },
  {
   "cell_type": "markdown",
   "id": "d2731dfc",
   "metadata": {},
   "source": [
    "### Model 4: Multilayer Perceptron"
   ]
  },
  {
   "cell_type": "code",
   "execution_count": 228,
   "id": "4cfb72fd",
   "metadata": {
    "scrolled": false
   },
   "outputs": [
    {
     "name": "stdout",
     "output_type": "stream",
     "text": [
      "Fitting 5 folds for each of 21 candidates, totalling 105 fits\n",
      "[CV] END ..hidden_layer_sizes=(10,), learning_rate_init=0.01; total time=   2.9s\n",
      "[CV] END ..hidden_layer_sizes=(10,), learning_rate_init=0.01; total time=   0.8s\n",
      "[CV] END ..hidden_layer_sizes=(10,), learning_rate_init=0.01; total time=   3.9s\n",
      "[CV] END ..hidden_layer_sizes=(10,), learning_rate_init=0.01; total time=   3.2s\n",
      "[CV] END ..hidden_layer_sizes=(10,), learning_rate_init=0.01; total time=   2.7s\n",
      "[CV] END .hidden_layer_sizes=(10,), learning_rate_init=0.001; total time=   3.8s\n",
      "[CV] END .hidden_layer_sizes=(10,), learning_rate_init=0.001; total time=   6.0s\n",
      "[CV] END .hidden_layer_sizes=(10,), learning_rate_init=0.001; total time=   3.2s\n",
      "[CV] END .hidden_layer_sizes=(10,), learning_rate_init=0.001; total time=   3.6s\n",
      "[CV] END .hidden_layer_sizes=(10,), learning_rate_init=0.001; total time=   3.0s\n",
      "[CV] END hidden_layer_sizes=(10,), learning_rate_init=0.0001; total time=  15.3s\n",
      "[CV] END hidden_layer_sizes=(10,), learning_rate_init=0.0001; total time=  14.0s\n",
      "[CV] END hidden_layer_sizes=(10,), learning_rate_init=0.0001; total time=   9.3s\n",
      "[CV] END hidden_layer_sizes=(10,), learning_rate_init=0.0001; total time=  15.8s\n",
      "[CV] END hidden_layer_sizes=(10,), learning_rate_init=0.0001; total time=  14.3s\n",
      "[CV] END ..hidden_layer_sizes=(30,), learning_rate_init=0.01; total time=   3.4s\n",
      "[CV] END ..hidden_layer_sizes=(30,), learning_rate_init=0.01; total time=   1.1s\n",
      "[CV] END ..hidden_layer_sizes=(30,), learning_rate_init=0.01; total time=   4.5s\n",
      "[CV] END ..hidden_layer_sizes=(30,), learning_rate_init=0.01; total time=   0.9s\n",
      "[CV] END ..hidden_layer_sizes=(30,), learning_rate_init=0.01; total time=   0.8s\n",
      "[CV] END .hidden_layer_sizes=(30,), learning_rate_init=0.001; total time=   6.4s\n",
      "[CV] END .hidden_layer_sizes=(30,), learning_rate_init=0.001; total time=   4.1s\n",
      "[CV] END .hidden_layer_sizes=(30,), learning_rate_init=0.001; total time=   2.4s\n",
      "[CV] END .hidden_layer_sizes=(30,), learning_rate_init=0.001; total time=   6.5s\n",
      "[CV] END .hidden_layer_sizes=(30,), learning_rate_init=0.001; total time=   1.9s\n",
      "[CV] END hidden_layer_sizes=(30,), learning_rate_init=0.0001; total time=  10.8s\n",
      "[CV] END hidden_layer_sizes=(30,), learning_rate_init=0.0001; total time=  11.3s\n",
      "[CV] END hidden_layer_sizes=(30,), learning_rate_init=0.0001; total time=  20.2s\n",
      "[CV] END hidden_layer_sizes=(30,), learning_rate_init=0.0001; total time=  16.3s\n",
      "[CV] END hidden_layer_sizes=(30,), learning_rate_init=0.0001; total time=  11.1s\n",
      "[CV] END ..hidden_layer_sizes=(50,), learning_rate_init=0.01; total time=   2.3s\n",
      "[CV] END ..hidden_layer_sizes=(50,), learning_rate_init=0.01; total time=   1.0s\n",
      "[CV] END ..hidden_layer_sizes=(50,), learning_rate_init=0.01; total time=   0.9s\n",
      "[CV] END ..hidden_layer_sizes=(50,), learning_rate_init=0.01; total time=   4.5s\n",
      "[CV] END ..hidden_layer_sizes=(50,), learning_rate_init=0.01; total time=   4.8s\n",
      "[CV] END .hidden_layer_sizes=(50,), learning_rate_init=0.001; total time=   3.6s\n",
      "[CV] END .hidden_layer_sizes=(50,), learning_rate_init=0.001; total time=   1.6s\n",
      "[CV] END .hidden_layer_sizes=(50,), learning_rate_init=0.001; total time=   2.9s\n",
      "[CV] END .hidden_layer_sizes=(50,), learning_rate_init=0.001; total time=   2.5s\n",
      "[CV] END .hidden_layer_sizes=(50,), learning_rate_init=0.001; total time=   2.5s\n",
      "[CV] END hidden_layer_sizes=(50,), learning_rate_init=0.0001; total time=  15.8s\n",
      "[CV] END hidden_layer_sizes=(50,), learning_rate_init=0.0001; total time=  10.0s\n",
      "[CV] END hidden_layer_sizes=(50,), learning_rate_init=0.0001; total time=   9.7s\n",
      "[CV] END hidden_layer_sizes=(50,), learning_rate_init=0.0001; total time=  12.6s\n",
      "[CV] END hidden_layer_sizes=(50,), learning_rate_init=0.0001; total time=  12.1s\n",
      "[CV] END .hidden_layer_sizes=(100,), learning_rate_init=0.01; total time=   4.1s\n",
      "[CV] END .hidden_layer_sizes=(100,), learning_rate_init=0.01; total time=   2.1s\n",
      "[CV] END .hidden_layer_sizes=(100,), learning_rate_init=0.01; total time=   9.1s\n",
      "[CV] END .hidden_layer_sizes=(100,), learning_rate_init=0.01; total time=   3.5s\n",
      "[CV] END .hidden_layer_sizes=(100,), learning_rate_init=0.01; total time=   1.8s\n",
      "[CV] END hidden_layer_sizes=(100,), learning_rate_init=0.001; total time=   7.4s\n",
      "[CV] END hidden_layer_sizes=(100,), learning_rate_init=0.001; total time=   7.2s\n",
      "[CV] END hidden_layer_sizes=(100,), learning_rate_init=0.001; total time=   5.2s\n",
      "[CV] END hidden_layer_sizes=(100,), learning_rate_init=0.001; total time=   4.4s\n",
      "[CV] END hidden_layer_sizes=(100,), learning_rate_init=0.001; total time=   7.8s\n",
      "[CV] END hidden_layer_sizes=(100,), learning_rate_init=0.0001; total time=  11.6s\n",
      "[CV] END hidden_layer_sizes=(100,), learning_rate_init=0.0001; total time=  33.4s\n",
      "[CV] END hidden_layer_sizes=(100,), learning_rate_init=0.0001; total time=  22.5s\n",
      "[CV] END hidden_layer_sizes=(100,), learning_rate_init=0.0001; total time=  28.9s\n",
      "[CV] END hidden_layer_sizes=(100,), learning_rate_init=0.0001; total time=  13.4s\n",
      "[CV] END hidden_layer_sizes=(10, 10), learning_rate_init=0.01; total time=   1.0s\n",
      "[CV] END hidden_layer_sizes=(10, 10), learning_rate_init=0.01; total time=   2.8s\n",
      "[CV] END hidden_layer_sizes=(10, 10), learning_rate_init=0.01; total time=   3.0s\n",
      "[CV] END hidden_layer_sizes=(10, 10), learning_rate_init=0.01; total time=   3.8s\n",
      "[CV] END hidden_layer_sizes=(10, 10), learning_rate_init=0.01; total time=   3.2s\n",
      "[CV] END hidden_layer_sizes=(10, 10), learning_rate_init=0.001; total time=   6.6s\n",
      "[CV] END hidden_layer_sizes=(10, 10), learning_rate_init=0.001; total time=   9.2s\n",
      "[CV] END hidden_layer_sizes=(10, 10), learning_rate_init=0.001; total time=   8.7s\n",
      "[CV] END hidden_layer_sizes=(10, 10), learning_rate_init=0.001; total time=   5.2s\n",
      "[CV] END hidden_layer_sizes=(10, 10), learning_rate_init=0.001; total time=   6.3s\n",
      "[CV] END hidden_layer_sizes=(10, 10), learning_rate_init=0.0001; total time=  13.0s\n",
      "[CV] END hidden_layer_sizes=(10, 10), learning_rate_init=0.0001; total time=  10.1s\n",
      "[CV] END hidden_layer_sizes=(10, 10), learning_rate_init=0.0001; total time=  10.5s\n",
      "[CV] END hidden_layer_sizes=(10, 10), learning_rate_init=0.0001; total time=  11.9s\n",
      "[CV] END hidden_layer_sizes=(10, 10), learning_rate_init=0.0001; total time=  13.7s\n",
      "[CV] END .hidden_layer_sizes=(8, 8), learning_rate_init=0.01; total time=   2.5s\n",
      "[CV] END .hidden_layer_sizes=(8, 8), learning_rate_init=0.01; total time=   1.2s\n",
      "[CV] END .hidden_layer_sizes=(8, 8), learning_rate_init=0.01; total time=   0.5s\n",
      "[CV] END .hidden_layer_sizes=(8, 8), learning_rate_init=0.01; total time=   2.5s\n",
      "[CV] END .hidden_layer_sizes=(8, 8), learning_rate_init=0.01; total time=   1.9s\n",
      "[CV] END hidden_layer_sizes=(8, 8), learning_rate_init=0.001; total time=   2.7s\n",
      "[CV] END hidden_layer_sizes=(8, 8), learning_rate_init=0.001; total time=   7.3s\n",
      "[CV] END hidden_layer_sizes=(8, 8), learning_rate_init=0.001; total time=   4.9s\n",
      "[CV] END hidden_layer_sizes=(8, 8), learning_rate_init=0.001; total time=   2.6s\n",
      "[CV] END hidden_layer_sizes=(8, 8), learning_rate_init=0.001; total time=   6.7s\n",
      "[CV] END hidden_layer_sizes=(8, 8), learning_rate_init=0.0001; total time=   9.5s\n",
      "[CV] END hidden_layer_sizes=(8, 8), learning_rate_init=0.0001; total time=  18.1s\n",
      "[CV] END hidden_layer_sizes=(8, 8), learning_rate_init=0.0001; total time=  16.0s\n",
      "[CV] END hidden_layer_sizes=(8, 8), learning_rate_init=0.0001; total time=  19.6s\n",
      "[CV] END hidden_layer_sizes=(8, 8), learning_rate_init=0.0001; total time=  19.0s\n",
      "[CV] END .hidden_layer_sizes=(5, 5), learning_rate_init=0.01; total time=   2.8s\n",
      "[CV] END .hidden_layer_sizes=(5, 5), learning_rate_init=0.01; total time=   3.7s\n",
      "[CV] END .hidden_layer_sizes=(5, 5), learning_rate_init=0.01; total time=   2.1s\n",
      "[CV] END .hidden_layer_sizes=(5, 5), learning_rate_init=0.01; total time=   5.8s\n",
      "[CV] END .hidden_layer_sizes=(5, 5), learning_rate_init=0.01; total time=   1.9s\n",
      "[CV] END hidden_layer_sizes=(5, 5), learning_rate_init=0.001; total time=   6.2s\n",
      "[CV] END hidden_layer_sizes=(5, 5), learning_rate_init=0.001; total time=   2.9s\n",
      "[CV] END hidden_layer_sizes=(5, 5), learning_rate_init=0.001; total time=   3.3s\n",
      "[CV] END hidden_layer_sizes=(5, 5), learning_rate_init=0.001; total time=   6.4s\n",
      "[CV] END hidden_layer_sizes=(5, 5), learning_rate_init=0.001; total time=   3.3s\n"
     ]
    },
    {
     "name": "stdout",
     "output_type": "stream",
     "text": [
      "[CV] END hidden_layer_sizes=(5, 5), learning_rate_init=0.0001; total time=  19.7s\n",
      "[CV] END hidden_layer_sizes=(5, 5), learning_rate_init=0.0001; total time=  19.7s\n",
      "[CV] END hidden_layer_sizes=(5, 5), learning_rate_init=0.0001; total time=  21.2s\n",
      "[CV] END hidden_layer_sizes=(5, 5), learning_rate_init=0.0001; total time=  20.3s\n",
      "[CV] END hidden_layer_sizes=(5, 5), learning_rate_init=0.0001; total time=  10.8s\n"
     ]
    }
   ],
   "source": [
    "mlp = MLPClassifier(max_iter=10000)\n",
    "param_grid = {'hidden_layer_sizes': [(10,),(30,),(50,),(100,),(10,10),(8,8),(5,5)],\n",
    "                'learning_rate_init': [1e-2, 1e-3, 1e-4]}\n",
    "\n",
    "cross_validation_model = GridSearchCV(mlp,param_grid,refit=True,verbose=2)\n",
    "\n",
    "start_timer = time.time()\n",
    "cross_validation_model.fit(X_train,y_train)\n",
    "end_timer = time.time()\n",
    "best_model = cross_validation_model.best_estimator_"
   ]
  },
  {
   "cell_type": "code",
   "execution_count": 229,
   "id": "17015465",
   "metadata": {},
   "outputs": [
    {
     "name": "stdout",
     "output_type": "stream",
     "text": [
      "Total Time Spent for CV process: 818.35 seconds\n",
      "Optimal parameters: {'hidden_layer_sizes': (10, 10), 'learning_rate_init': 0.001}\n"
     ]
    }
   ],
   "source": [
    "best_params = cross_validation_model.best_params_\n",
    "print(\"Total Time Spent for CV process: \" + str(round(end_timer - start_timer, 2)) + \" seconds\")\n",
    "print(\"Optimal parameters:\", best_params)"
   ]
  },
  {
   "cell_type": "code",
   "execution_count": 230,
   "id": "da4f766b",
   "metadata": {},
   "outputs": [
    {
     "name": "stdout",
     "output_type": "stream",
     "text": [
      "*** Accuracy-maximizing threshold was: 0.514226616643288 ***\n",
      "\n",
      "================Classification Report=================\n",
      "              precision    recall  f1-score   support\n",
      "\n",
      "  No default     0.8678    0.8335    0.8503      1087\n",
      "     Default     0.8637    0.8926    0.8779      1285\n",
      "\n",
      "    accuracy                         0.8655      2372\n",
      "   macro avg     0.8658    0.8630    0.8641      2372\n",
      "weighted avg     0.8656    0.8655    0.8653      2372\n",
      "\n"
     ]
    }
   ],
   "source": [
    "y_test_pred_probs = best_model.predict_proba(X_test)[:,1]\n",
    "fpr, tpr, thresholds = roc_curve(y_test, y_test_pred_probs)\n",
    "\n",
    "y_train_pred_probs = best_model.predict_proba(X_train)[:,1]\n",
    "fpr_train, tpr_train, thresholds_train = roc_curve(y_train, y_train_pred_probs)\n",
    "\n",
    "true_pos_train = tpr_train*(y_train.sum())\n",
    "true_neg_train = (1 - fpr_train) *(1-y_train).sum()\n",
    "\n",
    "highest_threshold_index = np.argmax(true_pos_train + true_neg_train)\n",
    "highest_threshold = 1 if highest_threshold_index == 0 else thresholds_train[highest_threshold_index]\n",
    "\n",
    "y_pred = (y_test_pred_probs > highest_threshold)\n",
    "\n",
    "# len(y_pred)\n",
    "print(\"*** Accuracy-maximizing threshold was: \" + str(highest_threshold)+\" ***\")\n",
    "print()\n",
    "print(\"================Classification Report=================\")\n",
    "print(classification_report(y_test, y_pred, target_names =['No default', 'Default'], digits = 4))"
   ]
  },
  {
   "cell_type": "code",
   "execution_count": 231,
   "id": "941a0676",
   "metadata": {
    "scrolled": false
   },
   "outputs": [
    {
     "data": {
      "text/plain": [
       "Text(0.5, 0, 'False Positive Rate')"
      ]
     },
     "execution_count": 231,
     "metadata": {},
     "output_type": "execute_result"
    },
    {
     "data": {
      "image/png": "[encoded data removed]",
      "text/plain": [
       "<Figure size 720x432 with 1 Axes>"
      ]
     },
     "metadata": {
      "needs_background": "light"
     },
     "output_type": "display_data"
    }
   ],
   "source": [
    "plt.figure(figsize = (10, 6))\n",
    "plt.title(\"ROC Curve (AUC = %0.2f)\"% roc_auc_score(y_test, y_test_pred_probs))\n",
    "plt.plot(fpr, tpr, 'b')\n",
    "plt.plot([0,1],[0,1],'r--')\n",
    "plt.xlim([0,1]); plt.ylim([0,1])\n",
    "plt.ylabel('True Positive Rate')\n",
    "plt.xlabel('False Positive Rate')"
   ]
  },
  {
   "cell_type": "code",
   "execution_count": 232,
   "id": "bc3a5a56",
   "metadata": {},
   "outputs": [
    {
     "data": {
      "text/plain": [
       "<matplotlib.legend.Legend at 0x7fb21c90ba30>"
      ]
     },
     "execution_count": 232,
     "metadata": {},
     "output_type": "execute_result"
    },
    {
     "data": {
      "image/png": "[encoded data removed]",
      "text/plain": [
       "<Figure size 720x432 with 1 Axes>"
      ]
     },
     "metadata": {
      "needs_background": "light"
     },
     "output_type": "display_data"
    }
   ],
   "source": [
    "plt.figure(figsize = (10, 6))\n",
    "fp_0, mpv_0 = calibration_curve(y_test, y_test_pred_probs, n_bins = 10)\n",
    "plt.plot([0,1], [0,1], 'k:', label='Perfectly calibrated')\n",
    "plt.plot(mpv_0, fp_0, 's-')\n",
    "plt.ylabel('Fraction of Positives')\n",
    "plt.xlim([0,1]); plt.ylim([0,1])\n",
    "plt.legend(loc ='upper left')"
   ]
  },
  {
   "cell_type": "code",
   "execution_count": 233,
   "id": "457420aa",
   "metadata": {},
   "outputs": [
    {
     "name": "stdout",
     "output_type": "stream",
     "text": [
      "***********************************************************************************\n",
      "Test Accuracy Score using MLP: 0.866779089376054\n",
      "***********************************************************************************\n"
     ]
    }
   ],
   "source": [
    "y_test_pred = best_model.predict(X_test)\n",
    "print('***********************************************************************************')\n",
    "print('Test Accuracy Score using MLP:', accuracy_score(y_test_pred, y_test))\n",
    "print('***********************************************************************************')"
   ]
  },
  {
   "cell_type": "markdown",
   "id": "2cb5bc00",
   "metadata": {},
   "source": [
    "### Result\n",
    " Model | Accuracy |\n",
    "-------|----------|\n",
    " Logistic Regression |   0.8600337268128162  |\n",
    " Support Vector Machine |   0.7740303541315345  |\n",
    " Random Forest|   0.8195615514333895  |\n",
    " Multilayer Perceptron |   0.866779089376054  |"
   ]
  },
  {
   "cell_type": "markdown",
   "id": "53e4e8fa",
   "metadata": {},
   "source": [
    "As the table shows above, the multilayer perceptron method, as we have expected, has the highest score around `0.8668` since this model can be generally applied to complex non-linear data. The performance of its calibration curve also delivers a good result as no noticeable deviation from the perfect calibration line exists. \n",
    "\n",
    "On the other hand, the Random Forest model has the poorest performance on the dataset of all. Given the highest time and computational resources the model has consumed and the lowest accuracy it achieved, we may make a generalized conclusion that the Random Forest model is not suitable to predict the match result for most of the MOBA games on the markets. It is also logically plausible for its unfit: in the multiplayer online battle games with high complexity, we should not treat each of the features/factors individually; either the method of bagged trees or random forest lies on the base of the decision tree, it might be convenient for implementation and interpretation, but the trade-off is that each of the features is not the best at its own job in determining the result of the game. "
   ]
  },
  {
   "cell_type": "markdown",
   "id": "baf94a1f",
   "metadata": {},
   "source": [
    "## Top Feature Analysis"
   ]
  },
  {
   "cell_type": "markdown",
   "id": "d5fd768c",
   "metadata": {},
   "source": [
    "In order to help LoL players with their game performance, we explore the top features of winning a LoL match."
   ]
  },
  {
   "cell_type": "code",
   "execution_count": 119,
   "id": "5b4ef405",
   "metadata": {
    "scrolled": false
   },
   "outputs": [
    {
     "name": "stderr",
     "output_type": "stream",
     "text": [
      "<ipython-input-119-37c959edb8be>:12: SettingWithCopyWarning: \n",
      "A value is trying to be set on a copy of a slice from a DataFrame.\n",
      "Try using .loc[row_indexer,col_indexer] = value instead\n",
      "\n",
      "See the caveats in the documentation: https://pandas.pydata.org/pandas-docs/stable/user_guide/indexing.html#returning-a-view-versus-a-copy\n",
      "  feature_importance_without_champ['Weights'] = feature_importance_without_champ['Weights'].abs()\n",
      "<ipython-input-119-37c959edb8be>:13: SettingWithCopyWarning: \n",
      "A value is trying to be set on a copy of a slice from a DataFrame\n",
      "\n",
      "See the caveats in the documentation: https://pandas.pydata.org/pandas-docs/stable/user_guide/indexing.html#returning-a-view-versus-a-copy\n",
      "  feature_importance_without_champ.sort_values(by=['Weights'], ascending=False, inplace=True)\n",
      "<ipython-input-119-37c959edb8be>:21: SettingWithCopyWarning: \n",
      "A value is trying to be set on a copy of a slice from a DataFrame.\n",
      "Try using .loc[row_indexer,col_indexer] = value instead\n",
      "\n",
      "See the caveats in the documentation: https://pandas.pydata.org/pandas-docs/stable/user_guide/indexing.html#returning-a-view-versus-a-copy\n",
      "  feature_importance_for_champ['Weights'] = feature_importance_for_champ['Weights'].abs()\n",
      "<ipython-input-119-37c959edb8be>:22: SettingWithCopyWarning: \n",
      "A value is trying to be set on a copy of a slice from a DataFrame\n",
      "\n",
      "See the caveats in the documentation: https://pandas.pydata.org/pandas-docs/stable/user_guide/indexing.html#returning-a-view-versus-a-copy\n",
      "  feature_importance_for_champ.sort_values(by=['Weights'], ascending=False, inplace=True)\n"
     ]
    }
   ],
   "source": [
    "feature_importance = pd.DataFrame()\n",
    "feature_importance['Feature'] = df_new.columns\n",
    "feature_importance['Weights'] = l2_logistic.coef_[0].reshape(174,1)\n",
    "feature_importance['Weights'] = feature_importance['Weights'].abs()\n",
    "\n",
    "feature_without_champ_index = []\n",
    "for i in range(174):\n",
    "    if 'champ' not in feature_importance['Feature'][i]:\n",
    "        feature_without_champ_index.append(i)\n",
    "        \n",
    "feature_importance_without_champ = feature_importance.iloc[feature_without_champ_index]\n",
    "feature_importance_without_champ['Weights'] = feature_importance_without_champ['Weights'].abs()\n",
    "feature_importance_without_champ.sort_values(by=['Weights'], ascending=False, inplace=True)\n",
    "\n",
    "feature_champ_index = []\n",
    "for i in range(174):\n",
    "    if 'champ' in feature_importance['Feature'][i]:\n",
    "        feature_champ_index.append(i)\n",
    "\n",
    "feature_importance_for_champ = feature_importance.iloc[feature_champ_index]\n",
    "feature_importance_for_champ['Weights'] = feature_importance_for_champ['Weights'].abs()\n",
    "feature_importance_for_champ.sort_values(by=['Weights'], ascending=False, inplace=True)\n",
    "# feature_importance_for_champ"
   ]
  },
  {
   "cell_type": "markdown",
   "id": "f0183482",
   "metadata": {},
   "source": [
    "### Top Champions"
   ]
  },
  {
   "cell_type": "code",
   "execution_count": 122,
   "id": "a6ec3d48",
   "metadata": {},
   "outputs": [
    {
     "data": {
      "text/html": [
       "<div>\n",
       "<style scoped>\n",
       "    .dataframe tbody tr th:only-of-type {\n",
       "        vertical-align: middle;\n",
       "    }\n",
       "\n",
       "    .dataframe tbody tr th {\n",
       "        vertical-align: top;\n",
       "    }\n",
       "\n",
       "    .dataframe thead th {\n",
       "        text-align: right;\n",
       "    }\n",
       "</style>\n",
       "<table border=\"1\" class=\"dataframe\">\n",
       "  <thead>\n",
       "    <tr style=\"text-align: right;\">\n",
       "      <th></th>\n",
       "      <th>Feature</th>\n",
       "      <th>Weights</th>\n",
       "    </tr>\n",
       "  </thead>\n",
       "  <tbody>\n",
       "    <tr>\n",
       "      <th>90</th>\n",
       "      <td>champ_Nautilus</td>\n",
       "      <td>0.025341</td>\n",
       "    </tr>\n",
       "    <tr>\n",
       "      <th>58</th>\n",
       "      <td>champ_Jhin</td>\n",
       "      <td>0.016596</td>\n",
       "    </tr>\n",
       "    <tr>\n",
       "      <th>12</th>\n",
       "      <td>champ_Ahri</td>\n",
       "      <td>0.013517</td>\n",
       "    </tr>\n",
       "    <tr>\n",
       "      <th>52</th>\n",
       "      <td>champ_Irelia</td>\n",
       "      <td>0.013288</td>\n",
       "    </tr>\n",
       "    <tr>\n",
       "      <th>74</th>\n",
       "      <td>champ_Lee Sin</td>\n",
       "      <td>0.012762</td>\n",
       "    </tr>\n",
       "    <tr>\n",
       "      <th>...</th>\n",
       "      <td>...</td>\n",
       "      <td>...</td>\n",
       "    </tr>\n",
       "    <tr>\n",
       "      <th>95</th>\n",
       "      <td>champ_Oalf</td>\n",
       "      <td>0.000109</td>\n",
       "    </tr>\n",
       "    <tr>\n",
       "      <th>162</th>\n",
       "      <td>champ_Zac</td>\n",
       "      <td>0.000105</td>\n",
       "    </tr>\n",
       "    <tr>\n",
       "      <th>135</th>\n",
       "      <td>champ_Thresh</td>\n",
       "      <td>0.000091</td>\n",
       "    </tr>\n",
       "    <tr>\n",
       "      <th>34</th>\n",
       "      <td>champ_Dr.Mundo</td>\n",
       "      <td>0.000082</td>\n",
       "    </tr>\n",
       "    <tr>\n",
       "      <th>64</th>\n",
       "      <td>champ_Kassadin</td>\n",
       "      <td>0.000032</td>\n",
       "    </tr>\n",
       "  </tbody>\n",
       "</table>\n",
       "<p>159 rows × 2 columns</p>\n",
       "</div>"
      ],
      "text/plain": [
       "            Feature   Weights\n",
       "90   champ_Nautilus  0.025341\n",
       "58       champ_Jhin  0.016596\n",
       "12       champ_Ahri  0.013517\n",
       "52     champ_Irelia  0.013288\n",
       "74    champ_Lee Sin  0.012762\n",
       "..              ...       ...\n",
       "95       champ_Oalf  0.000109\n",
       "162       champ_Zac  0.000105\n",
       "135    champ_Thresh  0.000091\n",
       "34   champ_Dr.Mundo  0.000082\n",
       "64   champ_Kassadin  0.000032\n",
       "\n",
       "[159 rows x 2 columns]"
      ]
     },
     "execution_count": 122,
     "metadata": {},
     "output_type": "execute_result"
    }
   ],
   "source": [
    "feature_importance_for_champ"
   ]
  },
  {
   "cell_type": "code",
   "execution_count": 123,
   "id": "7ca03d87",
   "metadata": {
    "scrolled": false
   },
   "outputs": [
    {
     "data": {
      "text/plain": [
       "Text(0, 0.5, 'Champions')"
      ]
     },
     "execution_count": 123,
     "metadata": {},
     "output_type": "execute_result"
    },
    {
     "data": {
      "image/png": "[encoded data removed]",
      "text/plain": [
       "<Figure size 1224x936 with 1 Axes>"
      ]
     },
     "metadata": {
      "needs_background": "light"
     },
     "output_type": "display_data"
    }
   ],
   "source": [
    "feature_importance.sort_values(by=['Weights'], ascending=False, inplace =True)\n",
    "\n",
    "plt.figure(figsize=(17,13))\n",
    "sns.barplot(x=feature_importance_for_champ['Weights'][:20], y=feature_importance_for_champ['Feature'][:20])\n",
    "plt.title('Champion Importance')\n",
    "plt.xlabel('Champion Importance')\n",
    "plt.ylabel('Champions')"
   ]
  },
  {
   "cell_type": "markdown",
   "id": "f17326d4",
   "metadata": {},
   "source": [
    "### Champion Suggestions and Insights"
   ]
  },
  {
   "cell_type": "markdown",
   "id": "f766f280",
   "metadata": {},
   "source": [
    " Based on the top champions analysis above, we can tell that champions such as `Nautilus`, `Jhin`, and `Ahri` have the highest weights. It means that they play a crucial role in contributing to the victory of their game. Our suggestion for players, therefore, is to improve their proficiency on those champions and try to pick them whenever those champions can fit into the composition of the entire team.\n",
    "\n",
    "Besides suggestions for gameplay, we can also draw some helpful insights: Most of the champions on the Top feature rank are the functional champions, which are the type of champions that mainly focus on benefiting teammates(the assistants) rather than doing greater damage to the enemy. Therefore, we can know that instead of letting individual players who outplayed others project a more significant influence on the result of the game, LOL company has pivoted the game-playing style to have a heavy focus on the team collaborations in the current version. That is a great indication telling us that, in order to have a greater chance of winning, we should pay more attention to teammates' actions and try to help them whenever there is a chance."
   ]
  },
  {
   "cell_type": "markdown",
   "id": "1f2f0209",
   "metadata": {},
   "source": [
    "### Top Features"
   ]
  },
  {
   "cell_type": "code",
   "execution_count": 124,
   "id": "cab72bbb",
   "metadata": {
    "scrolled": false
   },
   "outputs": [
    {
     "data": {
      "text/html": [
       "<div>\n",
       "<style scoped>\n",
       "    .dataframe tbody tr th:only-of-type {\n",
       "        vertical-align: middle;\n",
       "    }\n",
       "\n",
       "    .dataframe tbody tr th {\n",
       "        vertical-align: top;\n",
       "    }\n",
       "\n",
       "    .dataframe thead th {\n",
       "        text-align: right;\n",
       "    }\n",
       "</style>\n",
       "<table border=\"1\" class=\"dataframe\">\n",
       "  <thead>\n",
       "    <tr style=\"text-align: right;\">\n",
       "      <th></th>\n",
       "      <th>Feature</th>\n",
       "      <th>Weights</th>\n",
       "    </tr>\n",
       "  </thead>\n",
       "  <tbody>\n",
       "    <tr>\n",
       "      <th>10</th>\n",
       "      <td>kda</td>\n",
       "      <td>1.325720</td>\n",
       "    </tr>\n",
       "    <tr>\n",
       "      <th>7</th>\n",
       "      <td>mvpScore</td>\n",
       "      <td>0.281339</td>\n",
       "    </tr>\n",
       "    <tr>\n",
       "      <th>3</th>\n",
       "      <td>team</td>\n",
       "      <td>0.141328</td>\n",
       "    </tr>\n",
       "    <tr>\n",
       "      <th>1</th>\n",
       "      <td>hotStreak</td>\n",
       "      <td>0.099872</td>\n",
       "    </tr>\n",
       "    <tr>\n",
       "      <th>0</th>\n",
       "      <td>winRate</td>\n",
       "      <td>0.095425</td>\n",
       "    </tr>\n",
       "    <tr>\n",
       "      <th>173</th>\n",
       "      <td>role_TOP</td>\n",
       "      <td>0.094802</td>\n",
       "    </tr>\n",
       "    <tr>\n",
       "      <th>6</th>\n",
       "      <td>kp</td>\n",
       "      <td>0.077696</td>\n",
       "    </tr>\n",
       "    <tr>\n",
       "      <th>172</th>\n",
       "      <td>role_SUPPORT</td>\n",
       "      <td>0.068868</td>\n",
       "    </tr>\n",
       "    <tr>\n",
       "      <th>9</th>\n",
       "      <td>sightWardsPlaced</td>\n",
       "      <td>0.054180</td>\n",
       "    </tr>\n",
       "    <tr>\n",
       "      <th>171</th>\n",
       "      <td>role_MID</td>\n",
       "      <td>0.047332</td>\n",
       "    </tr>\n",
       "    <tr>\n",
       "      <th>169</th>\n",
       "      <td>role_ADC</td>\n",
       "      <td>0.022721</td>\n",
       "    </tr>\n",
       "    <tr>\n",
       "      <th>8</th>\n",
       "      <td>controlWardsPlaced</td>\n",
       "      <td>0.017358</td>\n",
       "    </tr>\n",
       "    <tr>\n",
       "      <th>5</th>\n",
       "      <td>csDiff10</td>\n",
       "      <td>0.009627</td>\n",
       "    </tr>\n",
       "    <tr>\n",
       "      <th>170</th>\n",
       "      <td>role_JUNGLE</td>\n",
       "      <td>0.007157</td>\n",
       "    </tr>\n",
       "    <tr>\n",
       "      <th>4</th>\n",
       "      <td>cs</td>\n",
       "      <td>0.005850</td>\n",
       "    </tr>\n",
       "  </tbody>\n",
       "</table>\n",
       "</div>"
      ],
      "text/plain": [
       "                Feature   Weights\n",
       "10                  kda  1.325720\n",
       "7              mvpScore  0.281339\n",
       "3                  team  0.141328\n",
       "1             hotStreak  0.099872\n",
       "0               winRate  0.095425\n",
       "173            role_TOP  0.094802\n",
       "6                    kp  0.077696\n",
       "172        role_SUPPORT  0.068868\n",
       "9      sightWardsPlaced  0.054180\n",
       "171            role_MID  0.047332\n",
       "169            role_ADC  0.022721\n",
       "8    controlWardsPlaced  0.017358\n",
       "5              csDiff10  0.009627\n",
       "170         role_JUNGLE  0.007157\n",
       "4                    cs  0.005850"
      ]
     },
     "execution_count": 124,
     "metadata": {},
     "output_type": "execute_result"
    }
   ],
   "source": [
    "feature_importance_without_champ"
   ]
  },
  {
   "cell_type": "code",
   "execution_count": 126,
   "id": "71ab6c9b",
   "metadata": {
    "scrolled": false
   },
   "outputs": [
    {
     "data": {
      "text/plain": [
       "Text(0, 0.5, 'Features')"
      ]
     },
     "execution_count": 126,
     "metadata": {},
     "output_type": "execute_result"
    },
    {
     "data": {
      "image/png": "[encoded data removed]",
      "text/plain": [
       "<Figure size 1080x720 with 1 Axes>"
      ]
     },
     "metadata": {
      "needs_background": "light"
     },
     "output_type": "display_data"
    }
   ],
   "source": [
    "plt.figure(figsize=(15,10))\n",
    "sns.barplot(x=feature_importance_without_champ['Weights'], y=feature_importance_without_champ['Feature'])\n",
    "plt.title('Feature Importance')\n",
    "plt.xlabel('Feature Importance')\n",
    "plt.ylabel('Features')"
   ]
  },
  {
   "cell_type": "markdown",
   "id": "e03f7d9c",
   "metadata": {},
   "source": [
    "### Gameplay Suggestions"
   ]
  },
  {
   "cell_type": "markdown",
   "id": "3fa1078d",
   "metadata": {},
   "source": [
    "Here, we remove all the champions from the feature analysis so that we can find out other factors that have a significant influence on the match outcome besides champion selection. We now draw some new insights from the graph above. For example, the feature 'role_Top' has a relatively high weight, which tells us that the Top position in a team plays a much more important role in the current version of the game. To elaborate a bit on this, it makes sense that TOp nowadays are the main driving forces that help to mobilize the rest of the team in either situation where they choose to split push or initiate a attack in late games."
   ]
  },
  {
   "cell_type": "markdown",
   "id": "3c598760",
   "metadata": {},
   "source": [
    "# Conclusion"
   ]
  },
  {
   "cell_type": "markdown",
   "id": "88e23258",
   "metadata": {},
   "source": [
    "In this data science task, we have successfully make prediction for the game match of League of Legends. With the model we have built, players are able to predict the chance of winning based their recent performances and character selection and the accuracy has reach more than 88%. By listing multiple combinations of  input and outcome, players are able to learning their strength and weakness in terms of gaming skills and strategy planning.\n",
    "\n",
    "In addition ,we also conduct a Top feature analysis based different tiers to provide suggestions on which of the dimensions or skills players can focus on for improvement. We believe this function would successfully alight the vision of our project, which is helpings players to improve skills and enjoy the overall gaming experience."
   ]
  },
  {
   "cell_type": "markdown",
   "id": "91fbcc37",
   "metadata": {},
   "source": [
    "### Improvement & Further Steps\n",
    "We believe that the amount of information and number of features could still be expanded. Although we have utilized many tools such as API, scrapping as well as other libraries to collect data, there still are many significant factors that have been missed, for example, the average number of dragons has been killed by the players and the average number of times players has taken crowd control, these all are very important features that can reflect the play-style and measures their performances. In addition, we will try to expand the scope of regions in which top players locate so that we can minimize the bias(caused by geographic factors) as much as possible\n",
    "\n",
    "To take one step further, we want to explore the possibility of implementing an unsupervised learning model on our datasets such as K-means and hierarchical Clusterings."
   ]
  },
  {
   "cell_type": "markdown",
   "id": "b9fa1ca9",
   "metadata": {},
   "source": [
    "Thanks for reading!"
   ]
  }
 ],
 "metadata": {
  "kernelspec": {
   "display_name": "Python 3",
   "language": "python",
   "name": "python3"
  },
  "language_info": {
   "codemirror_mode": {
    "name": "ipython",
    "version": 3
   },
   "file_extension": ".py",
   "mimetype": "text/x-python",
   "name": "python",
   "nbconvert_exporter": "python",
   "pygments_lexer": "ipython3",
   "version": "3.8.8"
  }
 },
 "nbformat": 4,
 "nbformat_minor": 5
}
